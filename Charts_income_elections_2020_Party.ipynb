{
 "cells": [
  {
   "cell_type": "markdown",
   "metadata": {},
   "source": [
    "## Background information \n",
    "The data on which these charts are based are from a poll conducted by Ipsos among Americans before the elections of 2020. This poll was used for [an article](https://projects.fivethirtyeight.com/non-voters-poll-2020-election/) on the blog [FiveThirtyEight](https://fivethirtyeight.com/).\n",
    "\n",
    "This survey is for a study assignment and has no relation to FiveThirtyEight.\n",
    "\n",
    "###### Goal\n",
    "With this survey I set out to discover what information from these charts is most noticeable.  "
   ]
  },
  {
   "cell_type": "markdown",
   "metadata": {},
   "source": [
    "## Political Party"
   ]
  },
  {
   "cell_type": "markdown",
   "metadata": {},
   "source": [
    "######  Chart information\n",
    "* Per income category every bar adds up to 100%.\n",
    "* Naturally, the bigger the color, the bigger the share of the accompanying answer. \n",
    "* By hovering over a single color you can see the answer it belongs to."
   ]
  },
  {
   "cell_type": "code",
   "execution_count": 7,
   "metadata": {},
   "outputs": [
    {
     "data": {
      "text/html": [
       "\n",
       "<div id=\"altair-viz-ed2583f9faf24e1ab6872a2728862eab\"></div>\n",
       "<script type=\"text/javascript\">\n",
       "  var VEGA_DEBUG = (typeof VEGA_DEBUG == \"undefined\") ? {} : VEGA_DEBUG;\n",
       "  (function(spec, embedOpt){\n",
       "    let outputDiv = document.currentScript.previousElementSibling;\n",
       "    if (outputDiv.id !== \"altair-viz-ed2583f9faf24e1ab6872a2728862eab\") {\n",
       "      outputDiv = document.getElementById(\"altair-viz-ed2583f9faf24e1ab6872a2728862eab\");\n",
       "    }\n",
       "    const paths = {\n",
       "      \"vega\": \"https://cdn.jsdelivr.net/npm//vega@5?noext\",\n",
       "      \"vega-lib\": \"https://cdn.jsdelivr.net/npm//vega-lib?noext\",\n",
       "      \"vega-lite\": \"https://cdn.jsdelivr.net/npm//vega-lite@4.17.0?noext\",\n",
       "      \"vega-embed\": \"https://cdn.jsdelivr.net/npm//vega-embed@6?noext\",\n",
       "    };\n",
       "\n",
       "    function maybeLoadScript(lib, version) {\n",
       "      var key = `${lib.replace(\"-\", \"\")}_version`;\n",
       "      return (VEGA_DEBUG[key] == version) ?\n",
       "        Promise.resolve(paths[lib]) :\n",
       "        new Promise(function(resolve, reject) {\n",
       "          var s = document.createElement('script');\n",
       "          document.getElementsByTagName(\"head\")[0].appendChild(s);\n",
       "          s.async = true;\n",
       "          s.onload = () => {\n",
       "            VEGA_DEBUG[key] = version;\n",
       "            return resolve(paths[lib]);\n",
       "          };\n",
       "          s.onerror = () => reject(`Error loading script: ${paths[lib]}`);\n",
       "          s.src = paths[lib];\n",
       "        });\n",
       "    }\n",
       "\n",
       "    function showError(err) {\n",
       "      outputDiv.innerHTML = `<div class=\"error\" style=\"color:red;\">${err}</div>`;\n",
       "      throw err;\n",
       "    }\n",
       "\n",
       "    function displayChart(vegaEmbed) {\n",
       "      vegaEmbed(outputDiv, spec, embedOpt)\n",
       "        .catch(err => showError(`Javascript Error: ${err.message}<br>This usually means there's a typo in your chart specification. See the javascript console for the full traceback.`));\n",
       "    }\n",
       "\n",
       "    if(typeof define === \"function\" && define.amd) {\n",
       "      requirejs.config({paths});\n",
       "      require([\"vega-embed\"], displayChart, err => showError(`Error loading script: ${err.message}`));\n",
       "    } else {\n",
       "      maybeLoadScript(\"vega\", \"5\")\n",
       "        .then(() => maybeLoadScript(\"vega-lite\", \"4.17.0\"))\n",
       "        .then(() => maybeLoadScript(\"vega-embed\", \"6\"))\n",
       "        .catch(showError)\n",
       "        .then(() => displayChart(vegaEmbed));\n",
       "    }\n",
       "  })({\"config\": {\"view\": {\"continuousWidth\": 400, \"continuousHeight\": 300}}, \"data\": {\"name\": \"data-e6b6890cb2f271dbf5d97f976b57d966\"}, \"mark\": {\"type\": \"bar\", \"size\": 50}, \"encoding\": {\"color\": {\"field\": \"val\", \"legend\": {\"labelFontSize\": 13, \"titleFontSize\": 14}, \"scale\": {\"scheme\": \"set2\"}, \"title\": \"Answer\", \"type\": \"nominal\"}, \"tooltip\": {\"field\": \"val\", \"type\": \"nominal\"}, \"x\": {\"axis\": {\"labelFontSize\": 16}, \"field\": \"count\", \"stack\": \"normalize\", \"title\": \"Proportion\", \"type\": \"quantitative\"}, \"y\": {\"axis\": {\"labelFontSize\": 16}, \"field\": \"income_cat\", \"title\": \"Income category\", \"type\": \"nominal\"}}, \"height\": 300, \"title\": \"Based on your perceptions and experiences of the Republican Party, which is the most accurate description of the party\\u2019s attitude toward people like you?\", \"width\": 500, \"$schema\": \"https://vega.github.io/schema/vega-lite/v4.17.0.json\", \"datasets\": {\"data-e6b6890cb2f271dbf5d97f976b57d966\": [{\"income_cat\": \"4. $125k or more\", \"val\": \"1. The Republican Party wants people like me to vote and works hard to earn our votes\", \"count\": 445}, {\"income_cat\": \"4. $125k or more\", \"val\": \"2. The Republican Party wants people like me to vote but does not work hard to earn our votes\", \"count\": 291}, {\"income_cat\": \"4. $125k or more\", \"val\": \"3. The Republican Party does not care whether or not people like me vote\", \"count\": 142}, {\"income_cat\": \"4. $125k or more\", \"val\": \"4. The Republican Party does not want people like me to vote, but does not work hard to keep us from voting\", \"count\": 95}, {\"income_cat\": \"4. $125k or more\", \"val\": \"5. The Republican Party does not want people like me to vote, and works hard to keep us from being able to vote\", \"count\": 392}, {\"income_cat\": \"3. $75-125k\", \"val\": \"5. The Republican Party does not want people like me to vote, and works hard to keep us from being able to vote\", \"count\": 463}, {\"income_cat\": \"3. $75-125k\", \"val\": \"4. The Republican Party does not want people like me to vote, but does not work hard to keep us from voting\", \"count\": 115}, {\"income_cat\": \"3. $75-125k\", \"val\": \"3. The Republican Party does not care whether or not people like me vote\", \"count\": 171}, {\"income_cat\": \"3. $75-125k\", \"val\": \"2. The Republican Party wants people like me to vote but does not work hard to earn our votes\", \"count\": 308}, {\"income_cat\": \"3. $75-125k\", \"val\": \"1. The Republican Party wants people like me to vote and works hard to earn our votes\", \"count\": 525}, {\"income_cat\": \"2. $40-75k\", \"val\": \"5. The Republican Party does not want people like me to vote, and works hard to keep us from being able to vote\", \"count\": 387}, {\"income_cat\": \"2. $40-75k\", \"val\": \"4. The Republican Party does not want people like me to vote, but does not work hard to keep us from voting\", \"count\": 78}, {\"income_cat\": \"2. $40-75k\", \"val\": \"3. The Republican Party does not care whether or not people like me vote\", \"count\": 193}, {\"income_cat\": \"2. $40-75k\", \"val\": \"2. The Republican Party wants people like me to vote but does not work hard to earn our votes\", \"count\": 226}, {\"income_cat\": \"2. $40-75k\", \"val\": \"1. The Republican Party wants people like me to vote and works hard to earn our votes\", \"count\": 456}, {\"income_cat\": \"1. Less than $40k\", \"val\": \"1. The Republican Party wants people like me to vote and works hard to earn our votes\", \"count\": 413}, {\"income_cat\": \"1. Less than $40k\", \"val\": \"2. The Republican Party wants people like me to vote but does not work hard to earn our votes\", \"count\": 250}, {\"income_cat\": \"1. Less than $40k\", \"val\": \"3. The Republican Party does not care whether or not people like me vote\", \"count\": 252}, {\"income_cat\": \"1. Less than $40k\", \"val\": \"4. The Republican Party does not want people like me to vote, but does not work hard to keep us from voting\", \"count\": 77}, {\"income_cat\": \"1. Less than $40k\", \"val\": \"5. The Republican Party does not want people like me to vote, and works hard to keep us from being able to vote\", \"count\": 353}]}}, {\"mode\": \"vega-lite\"});\n",
       "</script>"
      ],
      "text/plain": [
       "alt.Chart(...)"
      ]
     },
     "execution_count": 7,
     "metadata": {},
     "output_type": "execute_result"
    }
   ],
   "source": [
    "A_5304.republican"
   ]
  },
  {
   "cell_type": "code",
   "execution_count": 8,
   "metadata": {},
   "outputs": [
    {
     "data": {
      "text/html": [
       "\n",
       "<div id=\"altair-viz-7b8c10cc2cdc41709bff280d84cec590\"></div>\n",
       "<script type=\"text/javascript\">\n",
       "  var VEGA_DEBUG = (typeof VEGA_DEBUG == \"undefined\") ? {} : VEGA_DEBUG;\n",
       "  (function(spec, embedOpt){\n",
       "    let outputDiv = document.currentScript.previousElementSibling;\n",
       "    if (outputDiv.id !== \"altair-viz-7b8c10cc2cdc41709bff280d84cec590\") {\n",
       "      outputDiv = document.getElementById(\"altair-viz-7b8c10cc2cdc41709bff280d84cec590\");\n",
       "    }\n",
       "    const paths = {\n",
       "      \"vega\": \"https://cdn.jsdelivr.net/npm//vega@5?noext\",\n",
       "      \"vega-lib\": \"https://cdn.jsdelivr.net/npm//vega-lib?noext\",\n",
       "      \"vega-lite\": \"https://cdn.jsdelivr.net/npm//vega-lite@4.17.0?noext\",\n",
       "      \"vega-embed\": \"https://cdn.jsdelivr.net/npm//vega-embed@6?noext\",\n",
       "    };\n",
       "\n",
       "    function maybeLoadScript(lib, version) {\n",
       "      var key = `${lib.replace(\"-\", \"\")}_version`;\n",
       "      return (VEGA_DEBUG[key] == version) ?\n",
       "        Promise.resolve(paths[lib]) :\n",
       "        new Promise(function(resolve, reject) {\n",
       "          var s = document.createElement('script');\n",
       "          document.getElementsByTagName(\"head\")[0].appendChild(s);\n",
       "          s.async = true;\n",
       "          s.onload = () => {\n",
       "            VEGA_DEBUG[key] = version;\n",
       "            return resolve(paths[lib]);\n",
       "          };\n",
       "          s.onerror = () => reject(`Error loading script: ${paths[lib]}`);\n",
       "          s.src = paths[lib];\n",
       "        });\n",
       "    }\n",
       "\n",
       "    function showError(err) {\n",
       "      outputDiv.innerHTML = `<div class=\"error\" style=\"color:red;\">${err}</div>`;\n",
       "      throw err;\n",
       "    }\n",
       "\n",
       "    function displayChart(vegaEmbed) {\n",
       "      vegaEmbed(outputDiv, spec, embedOpt)\n",
       "        .catch(err => showError(`Javascript Error: ${err.message}<br>This usually means there's a typo in your chart specification. See the javascript console for the full traceback.`));\n",
       "    }\n",
       "\n",
       "    if(typeof define === \"function\" && define.amd) {\n",
       "      requirejs.config({paths});\n",
       "      require([\"vega-embed\"], displayChart, err => showError(`Error loading script: ${err.message}`));\n",
       "    } else {\n",
       "      maybeLoadScript(\"vega\", \"5\")\n",
       "        .then(() => maybeLoadScript(\"vega-lite\", \"4.17.0\"))\n",
       "        .then(() => maybeLoadScript(\"vega-embed\", \"6\"))\n",
       "        .catch(showError)\n",
       "        .then(() => displayChart(vegaEmbed));\n",
       "    }\n",
       "  })({\"config\": {\"view\": {\"continuousWidth\": 400, \"continuousHeight\": 300}}, \"data\": {\"name\": \"data-de0d0134179ccaa31e5392db78a0675c\"}, \"mark\": {\"type\": \"bar\", \"size\": 50}, \"encoding\": {\"color\": {\"field\": \"val\", \"legend\": {\"labelFontSize\": 13, \"titleFontSize\": 14}, \"scale\": {\"scheme\": \"set2\"}, \"title\": \"Answer\", \"type\": \"nominal\"}, \"tooltip\": {\"field\": \"val\", \"type\": \"nominal\"}, \"x\": {\"axis\": {\"labelFontSize\": 16}, \"field\": \"count\", \"stack\": \"normalize\", \"title\": \"Proportion\", \"type\": \"quantitative\"}, \"y\": {\"axis\": {\"labelFontSize\": 16}, \"field\": \"income_cat\", \"title\": \"Income category\", \"type\": \"nominal\"}}, \"height\": 300, \"title\": \"Based on your perceptions and experiences of the Democratic Party, which is the most accurate description of the party\\u2019s attitude toward people like you?\", \"width\": 500, \"$schema\": \"https://vega.github.io/schema/vega-lite/v4.17.0.json\", \"datasets\": {\"data-de0d0134179ccaa31e5392db78a0675c\": [{\"income_cat\": \"4. $125k or more\", \"val\": \"1. The Democratic Party wants people like me to vote and works hard to earn our votes\", \"count\": 544}, {\"income_cat\": \"4. $125k or more\", \"val\": \"2. The Democratic Party wants people like me to vote but does not work hard to earn our votes\", \"count\": 365}, {\"income_cat\": \"4. $125k or more\", \"val\": \"3. The Democratic Party does not care whether or not people like me vote\", \"count\": 132}, {\"income_cat\": \"4. $125k or more\", \"val\": \"4. The Democratic Party does not want people like me to vote, but does not work hard to keep us from voting\", \"count\": 144}, {\"income_cat\": \"4. $125k or more\", \"val\": \"5. The Democratic Party does not want people like me to vote, and works hard to keep us from being able to vote\", \"count\": 183}, {\"income_cat\": \"3. $75-125k\", \"val\": \"5. The Democratic Party does not want people like me to vote, and works hard to keep us from being able to vote\", \"count\": 224}, {\"income_cat\": \"3. $75-125k\", \"val\": \"4. The Democratic Party does not want people like me to vote, but does not work hard to keep us from voting\", \"count\": 148}, {\"income_cat\": \"3. $75-125k\", \"val\": \"3. The Democratic Party does not care whether or not people like me vote\", \"count\": 161}, {\"income_cat\": \"3. $75-125k\", \"val\": \"2. The Democratic Party wants people like me to vote but does not work hard to earn our votes\", \"count\": 445}, {\"income_cat\": \"3. $75-125k\", \"val\": \"1. The Democratic Party wants people like me to vote and works hard to earn our votes\", \"count\": 604}, {\"income_cat\": \"2. $40-75k\", \"val\": \"5. The Democratic Party does not want people like me to vote, and works hard to keep us from being able to vote\", \"count\": 219}, {\"income_cat\": \"2. $40-75k\", \"val\": \"4. The Democratic Party does not want people like me to vote, but does not work hard to keep us from voting\", \"count\": 116}, {\"income_cat\": \"2. $40-75k\", \"val\": \"3. The Democratic Party does not care whether or not people like me vote\", \"count\": 163}, {\"income_cat\": \"2. $40-75k\", \"val\": \"2. The Democratic Party wants people like me to vote but does not work hard to earn our votes\", \"count\": 322}, {\"income_cat\": \"2. $40-75k\", \"val\": \"1. The Democratic Party wants people like me to vote and works hard to earn our votes\", \"count\": 524}, {\"income_cat\": \"1. Less than $40k\", \"val\": \"1. The Democratic Party wants people like me to vote and works hard to earn our votes\", \"count\": 564}, {\"income_cat\": \"1. Less than $40k\", \"val\": \"2. The Democratic Party wants people like me to vote but does not work hard to earn our votes\", \"count\": 320}, {\"income_cat\": \"1. Less than $40k\", \"val\": \"3. The Democratic Party does not care whether or not people like me vote\", \"count\": 221}, {\"income_cat\": \"1. Less than $40k\", \"val\": \"4. The Democratic Party does not want people like me to vote, but does not work hard to keep us from voting\", \"count\": 65}, {\"income_cat\": \"1. Less than $40k\", \"val\": \"5. The Democratic Party does not want people like me to vote, and works hard to keep us from being able to vote\", \"count\": 180}]}}, {\"mode\": \"vega-lite\"});\n",
       "</script>"
      ],
      "text/plain": [
       "alt.Chart(...)"
      ]
     },
     "execution_count": 8,
     "metadata": {},
     "output_type": "execute_result"
    }
   ],
   "source": [
    "A_5304.democratic"
   ]
  }
 ],
 "metadata": {
  "kernelspec": {
   "display_name": "Python 3",
   "language": "python",
   "name": "python3"
  },
  "language_info": {
   "codemirror_mode": {
    "name": "ipython",
    "version": 3
   },
   "file_extension": ".py",
   "mimetype": "text/x-python",
   "name": "python",
   "nbconvert_exporter": "python",
   "pygments_lexer": "ipython3",
   "version": "3.7.3"
  }
 },
 "nbformat": 4,
 "nbformat_minor": 2
}
