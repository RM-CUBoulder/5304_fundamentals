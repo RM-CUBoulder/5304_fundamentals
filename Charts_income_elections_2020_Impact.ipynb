{
 "cells": [
  {
   "cell_type": "markdown",
   "metadata": {},
   "source": [
    "###### Don't touch the cell below "
   ]
  },
  {
   "cell_type": "code",
   "execution_count": null,
   "metadata": {},
   "outputs": [],
   "source": [
    "import Assignment_5304 as A_5304"
   ]
  },
  {
   "cell_type": "markdown",
   "metadata": {},
   "source": [
    "## Background information \n",
    "The data on which these charts are based are from a poll conducted by Ipsos among Americans before the elections of 2020. This poll was used for [an article](https://projects.fivethirtyeight.com/non-voters-poll-2020-election/) on the blog [FiveThirtyEight](https://fivethirtyeight.com/).\n",
    "\n",
    "This survey is for a study assigment and has no relation to FiveThirtyEight.\n",
    "\n",
    "###### Goal\n",
    "With this survey I set out to discover what information from these charts is most noticeable.  "
   ]
  },
  {
   "cell_type": "markdown",
   "metadata": {},
   "source": [
    "## Impact of institutions"
   ]
  },
  {
   "cell_type": "markdown",
   "metadata": {},
   "source": [
    "######  Chart information\n",
    "* Per income category every bar adds up to 100%.\n",
    "* Naturally, the bigger the color, the bigger the share of the accompanying answer. \n",
    "* By hovering over a single color you can see the answer it belongs to. "
   ]
  },
  {
   "cell_type": "code",
   "execution_count": 3,
   "metadata": {},
   "outputs": [
    {
     "data": {
      "text/html": [
       "\n",
       "<div id=\"altair-viz-4082448214ac4067bf342de8e0977cd2\"></div>\n",
       "<script type=\"text/javascript\">\n",
       "  var VEGA_DEBUG = (typeof VEGA_DEBUG == \"undefined\") ? {} : VEGA_DEBUG;\n",
       "  (function(spec, embedOpt){\n",
       "    let outputDiv = document.currentScript.previousElementSibling;\n",
       "    if (outputDiv.id !== \"altair-viz-4082448214ac4067bf342de8e0977cd2\") {\n",
       "      outputDiv = document.getElementById(\"altair-viz-4082448214ac4067bf342de8e0977cd2\");\n",
       "    }\n",
       "    const paths = {\n",
       "      \"vega\": \"https://cdn.jsdelivr.net/npm//vega@5?noext\",\n",
       "      \"vega-lib\": \"https://cdn.jsdelivr.net/npm//vega-lib?noext\",\n",
       "      \"vega-lite\": \"https://cdn.jsdelivr.net/npm//vega-lite@4.17.0?noext\",\n",
       "      \"vega-embed\": \"https://cdn.jsdelivr.net/npm//vega-embed@6?noext\",\n",
       "    };\n",
       "\n",
       "    function maybeLoadScript(lib, version) {\n",
       "      var key = `${lib.replace(\"-\", \"\")}_version`;\n",
       "      return (VEGA_DEBUG[key] == version) ?\n",
       "        Promise.resolve(paths[lib]) :\n",
       "        new Promise(function(resolve, reject) {\n",
       "          var s = document.createElement('script');\n",
       "          document.getElementsByTagName(\"head\")[0].appendChild(s);\n",
       "          s.async = true;\n",
       "          s.onload = () => {\n",
       "            VEGA_DEBUG[key] = version;\n",
       "            return resolve(paths[lib]);\n",
       "          };\n",
       "          s.onerror = () => reject(`Error loading script: ${paths[lib]}`);\n",
       "          s.src = paths[lib];\n",
       "        });\n",
       "    }\n",
       "\n",
       "    function showError(err) {\n",
       "      outputDiv.innerHTML = `<div class=\"error\" style=\"color:red;\">${err}</div>`;\n",
       "      throw err;\n",
       "    }\n",
       "\n",
       "    function displayChart(vegaEmbed) {\n",
       "      vegaEmbed(outputDiv, spec, embedOpt)\n",
       "        .catch(err => showError(`Javascript Error: ${err.message}<br>This usually means there's a typo in your chart specification. See the javascript console for the full traceback.`));\n",
       "    }\n",
       "\n",
       "    if(typeof define === \"function\" && define.amd) {\n",
       "      requirejs.config({paths});\n",
       "      require([\"vega-embed\"], displayChart, err => showError(`Error loading script: ${err.message}`));\n",
       "    } else {\n",
       "      maybeLoadScript(\"vega\", \"5\")\n",
       "        .then(() => maybeLoadScript(\"vega-lite\", \"4.17.0\"))\n",
       "        .then(() => maybeLoadScript(\"vega-embed\", \"6\"))\n",
       "        .catch(showError)\n",
       "        .then(() => displayChart(vegaEmbed));\n",
       "    }\n",
       "  })({\"config\": {\"view\": {\"continuousWidth\": 400, \"continuousHeight\": 300}}, \"hconcat\": [{\"data\": {\"name\": \"data-094f19b4d5360e0dc94f38f6b2f1528f\"}, \"mark\": {\"type\": \"bar\", \"size\": 50}, \"encoding\": {\"color\": {\"field\": \"val\", \"legend\": {\"labelFontSize\": 13, \"titleFontSize\": 14}, \"scale\": {\"scheme\": \"set2\"}, \"title\": \"Answer\", \"type\": \"nominal\"}, \"tooltip\": {\"field\": \"val\", \"type\": \"nominal\"}, \"x\": {\"axis\": {\"labelFontSize\": 16}, \"field\": \"count\", \"stack\": \"normalize\", \"title\": \"Proportion\", \"type\": \"quantitative\"}, \"y\": {\"axis\": {\"labelFontSize\": 16}, \"field\": \"income_cat\", \"title\": \"Income category\", \"type\": \"nominal\"}}, \"height\": 300, \"title\": \"Elected officials in Washington, D.C. (e.g. the president, member of Congress)\", \"width\": 500}, {\"data\": {\"name\": \"data-3b201677cd41b614c0b2913227e36d1b\"}, \"mark\": {\"type\": \"bar\", \"size\": 50}, \"encoding\": {\"color\": {\"field\": \"val\", \"legend\": {\"labelFontSize\": 13, \"titleFontSize\": 14}, \"scale\": {\"scheme\": \"set2\"}, \"title\": \"Answer\", \"type\": \"nominal\"}, \"tooltip\": {\"field\": \"val\", \"type\": \"nominal\"}, \"x\": {\"axis\": {\"labelFontSize\": 16}, \"field\": \"count\", \"stack\": \"normalize\", \"title\": \"Proportion\", \"type\": \"quantitative\"}, \"y\": {\"axis\": {\"labelFontSize\": 16}, \"field\": \"income_cat\", \"title\": \"Income category\", \"type\": \"nominal\"}}, \"height\": 300, \"title\": \"Elected officials in my state (e.g. governor, state representative)\", \"width\": 500}], \"title\": \"Perceived impact of institutions\", \"$schema\": \"https://vega.github.io/schema/vega-lite/v4.17.0.json\", \"datasets\": {\"data-094f19b4d5360e0dc94f38f6b2f1528f\": [{\"income_cat\": \"4. $125k or more\", \"val\": \"1. A significant impact\", \"count\": 623}, {\"income_cat\": \"4. $125k or more\", \"val\": \"2. Somewhat of an impact\", \"count\": 527}, {\"income_cat\": \"4. $125k or more\", \"val\": \"3. Just a slight impact\", \"count\": 195}, {\"income_cat\": \"4. $125k or more\", \"val\": \"4. No impact at all\", \"count\": 43}, {\"income_cat\": \"3. $75-125k\", \"val\": \"1. A significant impact\", \"count\": 718}, {\"income_cat\": \"3. $75-125k\", \"val\": \"2. Somewhat of an impact\", \"count\": 584}, {\"income_cat\": \"3. $75-125k\", \"val\": \"3. Just a slight impact\", \"count\": 237}, {\"income_cat\": \"3. $75-125k\", \"val\": \"4. No impact at all\", \"count\": 84}, {\"income_cat\": \"2. $40-75k\", \"val\": \"1. A significant impact\", \"count\": 621}, {\"income_cat\": \"2. $40-75k\", \"val\": \"2. Somewhat of an impact\", \"count\": 471}, {\"income_cat\": \"2. $40-75k\", \"val\": \"3. Just a slight impact\", \"count\": 206}, {\"income_cat\": \"2. $40-75k\", \"val\": \"4. No impact at all\", \"count\": 82}, {\"income_cat\": \"1. Less than $40k\", \"val\": \"1. A significant impact\", \"count\": 634}, {\"income_cat\": \"1. Less than $40k\", \"val\": \"2. Somewhat of an impact\", \"count\": 441}, {\"income_cat\": \"1. Less than $40k\", \"val\": \"3. Just a slight impact\", \"count\": 196}, {\"income_cat\": \"1. Less than $40k\", \"val\": \"4. No impact at all\", \"count\": 135}], \"data-3b201677cd41b614c0b2913227e36d1b\": [{\"income_cat\": \"4. $125k or more\", \"val\": \"1. A significant impact\", \"count\": 569}, {\"income_cat\": \"4. $125k or more\", \"val\": \"2. Somewhat of an impact\", \"count\": 594}, {\"income_cat\": \"4. $125k or more\", \"val\": \"3. Just a slight impact\", \"count\": 186}, {\"income_cat\": \"4. $125k or more\", \"val\": \"4. No impact at all\", \"count\": 39}, {\"income_cat\": \"3. $75-125k\", \"val\": \"1. A significant impact\", \"count\": 675}, {\"income_cat\": \"3. $75-125k\", \"val\": \"2. Somewhat of an impact\", \"count\": 677}, {\"income_cat\": \"3. $75-125k\", \"val\": \"3. Just a slight impact\", \"count\": 198}, {\"income_cat\": \"3. $75-125k\", \"val\": \"4. No impact at all\", \"count\": 71}, {\"income_cat\": \"2. $40-75k\", \"val\": \"1. A significant impact\", \"count\": 571}, {\"income_cat\": \"2. $40-75k\", \"val\": \"2. Somewhat of an impact\", \"count\": 551}, {\"income_cat\": \"2. $40-75k\", \"val\": \"3. Just a slight impact\", \"count\": 182}, {\"income_cat\": \"2. $40-75k\", \"val\": \"4. No impact at all\", \"count\": 79}, {\"income_cat\": \"1. Less than $40k\", \"val\": \"1. A significant impact\", \"count\": 530}, {\"income_cat\": \"1. Less than $40k\", \"val\": \"2. Somewhat of an impact\", \"count\": 492}, {\"income_cat\": \"1. Less than $40k\", \"val\": \"3. Just a slight impact\", \"count\": 244}, {\"income_cat\": \"1. Less than $40k\", \"val\": \"4. No impact at all\", \"count\": 139}]}}, {\"mode\": \"vega-lite\"});\n",
       "</script>"
      ],
      "text/plain": [
       "alt.HConcatChart(...)"
      ]
     },
     "execution_count": 3,
     "metadata": {},
     "output_type": "execute_result"
    }
   ],
   "source": [
    "A_5304.impact"
   ]
  },
  {
   "cell_type": "code",
   "execution_count": 4,
   "metadata": {},
   "outputs": [
    {
     "data": {
      "text/html": [
       "\n",
       "<div id=\"altair-viz-8bfb92ec686a4a3a8b803dc29cd0d23d\"></div>\n",
       "<script type=\"text/javascript\">\n",
       "  var VEGA_DEBUG = (typeof VEGA_DEBUG == \"undefined\") ? {} : VEGA_DEBUG;\n",
       "  (function(spec, embedOpt){\n",
       "    let outputDiv = document.currentScript.previousElementSibling;\n",
       "    if (outputDiv.id !== \"altair-viz-8bfb92ec686a4a3a8b803dc29cd0d23d\") {\n",
       "      outputDiv = document.getElementById(\"altair-viz-8bfb92ec686a4a3a8b803dc29cd0d23d\");\n",
       "    }\n",
       "    const paths = {\n",
       "      \"vega\": \"https://cdn.jsdelivr.net/npm//vega@5?noext\",\n",
       "      \"vega-lib\": \"https://cdn.jsdelivr.net/npm//vega-lib?noext\",\n",
       "      \"vega-lite\": \"https://cdn.jsdelivr.net/npm//vega-lite@4.17.0?noext\",\n",
       "      \"vega-embed\": \"https://cdn.jsdelivr.net/npm//vega-embed@6?noext\",\n",
       "    };\n",
       "\n",
       "    function maybeLoadScript(lib, version) {\n",
       "      var key = `${lib.replace(\"-\", \"\")}_version`;\n",
       "      return (VEGA_DEBUG[key] == version) ?\n",
       "        Promise.resolve(paths[lib]) :\n",
       "        new Promise(function(resolve, reject) {\n",
       "          var s = document.createElement('script');\n",
       "          document.getElementsByTagName(\"head\")[0].appendChild(s);\n",
       "          s.async = true;\n",
       "          s.onload = () => {\n",
       "            VEGA_DEBUG[key] = version;\n",
       "            return resolve(paths[lib]);\n",
       "          };\n",
       "          s.onerror = () => reject(`Error loading script: ${paths[lib]}`);\n",
       "          s.src = paths[lib];\n",
       "        });\n",
       "    }\n",
       "\n",
       "    function showError(err) {\n",
       "      outputDiv.innerHTML = `<div class=\"error\" style=\"color:red;\">${err}</div>`;\n",
       "      throw err;\n",
       "    }\n",
       "\n",
       "    function displayChart(vegaEmbed) {\n",
       "      vegaEmbed(outputDiv, spec, embedOpt)\n",
       "        .catch(err => showError(`Javascript Error: ${err.message}<br>This usually means there's a typo in your chart specification. See the javascript console for the full traceback.`));\n",
       "    }\n",
       "\n",
       "    if(typeof define === \"function\" && define.amd) {\n",
       "      requirejs.config({paths});\n",
       "      require([\"vega-embed\"], displayChart, err => showError(`Error loading script: ${err.message}`));\n",
       "    } else {\n",
       "      maybeLoadScript(\"vega\", \"5\")\n",
       "        .then(() => maybeLoadScript(\"vega-lite\", \"4.17.0\"))\n",
       "        .then(() => maybeLoadScript(\"vega-embed\", \"6\"))\n",
       "        .catch(showError)\n",
       "        .then(() => displayChart(vegaEmbed));\n",
       "    }\n",
       "  })({\"config\": {\"view\": {\"continuousWidth\": 400, \"continuousHeight\": 300}}, \"hconcat\": [{\"data\": {\"name\": \"data-697547319174f33c9986df26c7b31c35\"}, \"mark\": {\"type\": \"bar\", \"size\": 50}, \"encoding\": {\"color\": {\"field\": \"val\", \"legend\": {\"labelFontSize\": 13, \"titleFontSize\": 14}, \"scale\": {\"scheme\": \"set2\"}, \"title\": \"Answer\", \"type\": \"nominal\"}, \"tooltip\": {\"field\": \"val\", \"type\": \"nominal\"}, \"x\": {\"axis\": {\"labelFontSize\": 16}, \"field\": \"count\", \"stack\": \"normalize\", \"title\": \"Proportion\", \"type\": \"quantitative\"}, \"y\": {\"axis\": {\"labelFontSize\": 16}, \"field\": \"income_cat\", \"title\": \"Income category\", \"type\": \"nominal\"}}, \"height\": 300, \"title\": \"Elected officials in my city or community (e.g. mayor, city council)\", \"width\": 500}, {\"data\": {\"name\": \"data-5193fc101e46551a28458a489332449e\"}, \"mark\": {\"type\": \"bar\", \"size\": 50}, \"encoding\": {\"color\": {\"field\": \"val\", \"legend\": {\"labelFontSize\": 13, \"titleFontSize\": 14}, \"scale\": {\"scheme\": \"set2\"}, \"title\": \"Answer\", \"type\": \"nominal\"}, \"tooltip\": {\"field\": \"val\", \"type\": \"nominal\"}, \"x\": {\"axis\": {\"labelFontSize\": 16}, \"field\": \"count\", \"stack\": \"normalize\", \"title\": \"Proportion\", \"type\": \"quantitative\"}, \"y\": {\"axis\": {\"labelFontSize\": 16}, \"field\": \"income_cat\", \"title\": \"Income category\", \"type\": \"nominal\"}}, \"height\": 300, \"title\": \"News media\", \"width\": 500}], \"title\": \"Perceived impact of institutions\", \"$schema\": \"https://vega.github.io/schema/vega-lite/v4.17.0.json\", \"datasets\": {\"data-697547319174f33c9986df26c7b31c35\": [{\"income_cat\": \"4. $125k or more\", \"val\": \"1. A significant impact\", \"count\": 432}, {\"income_cat\": \"4. $125k or more\", \"val\": \"2. Somewhat of an impact\", \"count\": 617}, {\"income_cat\": \"4. $125k or more\", \"val\": \"3. Just a slight impact\", \"count\": 284}, {\"income_cat\": \"4. $125k or more\", \"val\": \"4. No impact at all\", \"count\": 56}, {\"income_cat\": \"3. $75-125k\", \"val\": \"1. A significant impact\", \"count\": 526}, {\"income_cat\": \"3. $75-125k\", \"val\": \"2. Somewhat of an impact\", \"count\": 694}, {\"income_cat\": \"3. $75-125k\", \"val\": \"3. Just a slight impact\", \"count\": 315}, {\"income_cat\": \"3. $75-125k\", \"val\": \"4. No impact at all\", \"count\": 90}, {\"income_cat\": \"2. $40-75k\", \"val\": \"1. A significant impact\", \"count\": 466}, {\"income_cat\": \"2. $40-75k\", \"val\": \"2. Somewhat of an impact\", \"count\": 548}, {\"income_cat\": \"2. $40-75k\", \"val\": \"3. Just a slight impact\", \"count\": 265}, {\"income_cat\": \"2. $40-75k\", \"val\": \"4. No impact at all\", \"count\": 103}, {\"income_cat\": \"1. Less than $40k\", \"val\": \"1. A significant impact\", \"count\": 453}, {\"income_cat\": \"1. Less than $40k\", \"val\": \"2. Somewhat of an impact\", \"count\": 493}, {\"income_cat\": \"1. Less than $40k\", \"val\": \"3. Just a slight impact\", \"count\": 291}, {\"income_cat\": \"1. Less than $40k\", \"val\": \"4. No impact at all\", \"count\": 170}], \"data-5193fc101e46551a28458a489332449e\": [{\"income_cat\": \"4. $125k or more\", \"val\": \"1. A significant impact\", \"count\": 242}, {\"income_cat\": \"4. $125k or more\", \"val\": \"2. Somewhat of an impact\", \"count\": 505}, {\"income_cat\": \"4. $125k or more\", \"val\": \"3. Just a slight impact\", \"count\": 422}, {\"income_cat\": \"4. $125k or more\", \"val\": \"4. No impact at all\", \"count\": 220}, {\"income_cat\": \"3. $75-125k\", \"val\": \"1. A significant impact\", \"count\": 297}, {\"income_cat\": \"3. $75-125k\", \"val\": \"2. Somewhat of an impact\", \"count\": 606}, {\"income_cat\": \"3. $75-125k\", \"val\": \"3. Just a slight impact\", \"count\": 430}, {\"income_cat\": \"3. $75-125k\", \"val\": \"4. No impact at all\", \"count\": 290}, {\"income_cat\": \"2. $40-75k\", \"val\": \"1. A significant impact\", \"count\": 260}, {\"income_cat\": \"2. $40-75k\", \"val\": \"2. Somewhat of an impact\", \"count\": 477}, {\"income_cat\": \"2. $40-75k\", \"val\": \"3. Just a slight impact\", \"count\": 379}, {\"income_cat\": \"2. $40-75k\", \"val\": \"4. No impact at all\", \"count\": 263}, {\"income_cat\": \"1. Less than $40k\", \"val\": \"1. A significant impact\", \"count\": 291}, {\"income_cat\": \"1. Less than $40k\", \"val\": \"2. Somewhat of an impact\", \"count\": 460}, {\"income_cat\": \"1. Less than $40k\", \"val\": \"3. Just a slight impact\", \"count\": 362}, {\"income_cat\": \"1. Less than $40k\", \"val\": \"4. No impact at all\", \"count\": 294}]}}, {\"mode\": \"vega-lite\"});\n",
       "</script>"
      ],
      "text/plain": [
       "alt.HConcatChart(...)"
      ]
     },
     "execution_count": 4,
     "metadata": {},
     "output_type": "execute_result"
    }
   ],
   "source": [
    "A_5304.impact_I"
   ]
  }
 ],
 "metadata": {
  "kernelspec": {
   "display_name": "Python 3",
   "language": "python",
   "name": "python3"
  },
  "language_info": {
   "codemirror_mode": {
    "name": "ipython",
    "version": 3
   },
   "file_extension": ".py",
   "mimetype": "text/x-python",
   "name": "python",
   "nbconvert_exporter": "python",
   "pygments_lexer": "ipython3",
   "version": "3.7.3"
  }
 },
 "nbformat": 4,
 "nbformat_minor": 2
}
