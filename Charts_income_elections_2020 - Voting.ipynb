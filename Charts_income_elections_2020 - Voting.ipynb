{
 "cells": [
  {
   "cell_type": "markdown",
   "metadata": {},
   "source": [
    "## Background information \n",
    "The data on which these charts are based are from a poll conducted by Ipsos among Americans before the elections of 2020. This poll was used for [an article](https://projects.fivethirtyeight.com/non-voters-poll-2020-election/) on the blog [FiveThirtyEight](https://fivethirtyeight.com/).\n",
    "\n",
    "This survey is for a study assigment and has no relation to FiveThirtyEight. \n",
    "\n",
    "###### Goal\n",
    "With this survey I set out to discover what information from these charts is most noticeable.  "
   ]
  },
  {
   "cell_type": "markdown",
   "metadata": {},
   "source": [
    "## Voting"
   ]
  },
  {
   "cell_type": "markdown",
   "metadata": {},
   "source": [
    "######  Chart information\n",
    "* Per income category every bar adds up to 100%.\n",
    "* Naturally, the bigger the color, the bigger the share of the accompanying answer. \n",
    "* By hovering over a single color you can see the answer it belongs to. "
   ]
  },
  {
   "cell_type": "code",
   "execution_count": 10,
   "metadata": {},
   "outputs": [
    {
     "data": {
      "text/html": [
       "\n",
       "<div id=\"altair-viz-7e4ee0cbaed54531b18148a784dc82f0\"></div>\n",
       "<script type=\"text/javascript\">\n",
       "  var VEGA_DEBUG = (typeof VEGA_DEBUG == \"undefined\") ? {} : VEGA_DEBUG;\n",
       "  (function(spec, embedOpt){\n",
       "    let outputDiv = document.currentScript.previousElementSibling;\n",
       "    if (outputDiv.id !== \"altair-viz-7e4ee0cbaed54531b18148a784dc82f0\") {\n",
       "      outputDiv = document.getElementById(\"altair-viz-7e4ee0cbaed54531b18148a784dc82f0\");\n",
       "    }\n",
       "    const paths = {\n",
       "      \"vega\": \"https://cdn.jsdelivr.net/npm//vega@5?noext\",\n",
       "      \"vega-lib\": \"https://cdn.jsdelivr.net/npm//vega-lib?noext\",\n",
       "      \"vega-lite\": \"https://cdn.jsdelivr.net/npm//vega-lite@4.17.0?noext\",\n",
       "      \"vega-embed\": \"https://cdn.jsdelivr.net/npm//vega-embed@6?noext\",\n",
       "    };\n",
       "\n",
       "    function maybeLoadScript(lib, version) {\n",
       "      var key = `${lib.replace(\"-\", \"\")}_version`;\n",
       "      return (VEGA_DEBUG[key] == version) ?\n",
       "        Promise.resolve(paths[lib]) :\n",
       "        new Promise(function(resolve, reject) {\n",
       "          var s = document.createElement('script');\n",
       "          document.getElementsByTagName(\"head\")[0].appendChild(s);\n",
       "          s.async = true;\n",
       "          s.onload = () => {\n",
       "            VEGA_DEBUG[key] = version;\n",
       "            return resolve(paths[lib]);\n",
       "          };\n",
       "          s.onerror = () => reject(`Error loading script: ${paths[lib]}`);\n",
       "          s.src = paths[lib];\n",
       "        });\n",
       "    }\n",
       "\n",
       "    function showError(err) {\n",
       "      outputDiv.innerHTML = `<div class=\"error\" style=\"color:red;\">${err}</div>`;\n",
       "      throw err;\n",
       "    }\n",
       "\n",
       "    function displayChart(vegaEmbed) {\n",
       "      vegaEmbed(outputDiv, spec, embedOpt)\n",
       "        .catch(err => showError(`Javascript Error: ${err.message}<br>This usually means there's a typo in your chart specification. See the javascript console for the full traceback.`));\n",
       "    }\n",
       "\n",
       "    if(typeof define === \"function\" && define.amd) {\n",
       "      requirejs.config({paths});\n",
       "      require([\"vega-embed\"], displayChart, err => showError(`Error loading script: ${err.message}`));\n",
       "    } else {\n",
       "      maybeLoadScript(\"vega\", \"5\")\n",
       "        .then(() => maybeLoadScript(\"vega-lite\", \"4.17.0\"))\n",
       "        .then(() => maybeLoadScript(\"vega-embed\", \"6\"))\n",
       "        .catch(showError)\n",
       "        .then(() => displayChart(vegaEmbed));\n",
       "    }\n",
       "  })({\"config\": {\"view\": {\"continuousWidth\": 400, \"continuousHeight\": 300}}, \"data\": {\"name\": \"data-fb07abbf09a63b914886a242ac8522ef\"}, \"mark\": {\"type\": \"bar\", \"size\": 50}, \"encoding\": {\"color\": {\"field\": \"val\", \"legend\": {\"labelFontSize\": 13, \"titleFontSize\": 14}, \"scale\": {\"scheme\": \"set2\"}, \"title\": \"Answer\", \"type\": \"nominal\"}, \"tooltip\": {\"field\": \"val\", \"type\": \"nominal\"}, \"x\": {\"axis\": {\"labelFontSize\": 16}, \"field\": \"count\", \"stack\": \"normalize\", \"title\": \"Proportion\", \"type\": \"quantitative\"}, \"y\": {\"axis\": {\"labelFontSize\": 16}, \"field\": \"income_cat\", \"title\": \"Income category\", \"type\": \"nominal\"}}, \"height\": 300, \"title\": \"How easy or difficult do you think it is to vote in national elections?\", \"width\": 500, \"$schema\": \"https://vega.github.io/schema/vega-lite/v4.17.0.json\", \"datasets\": {\"data-fb07abbf09a63b914886a242ac8522ef\": [{\"income_cat\": \"4. $125k or more\", \"val\": \"1. Very easy\", \"count\": 812}, {\"income_cat\": \"4. $125k or more\", \"val\": \"2. Somewhat easy\", \"count\": 420}, {\"income_cat\": \"4. $125k or more\", \"val\": \"3. Somewhat difficult\", \"count\": 131}, {\"income_cat\": \"4. $125k or more\", \"val\": \"4. Very difficult\", \"count\": 28}, {\"income_cat\": \"3. $75-125k\", \"val\": \"1. Very easy\", \"count\": 903}, {\"income_cat\": \"3. $75-125k\", \"val\": \"2. Somewhat easy\", \"count\": 487}, {\"income_cat\": \"3. $75-125k\", \"val\": \"3. Somewhat difficult\", \"count\": 185}, {\"income_cat\": \"3. $75-125k\", \"val\": \"4. Very difficult\", \"count\": 40}, {\"income_cat\": \"2. $40-75k\", \"val\": \"1. Very easy\", \"count\": 744}, {\"income_cat\": \"2. $40-75k\", \"val\": \"2. Somewhat easy\", \"count\": 423}, {\"income_cat\": \"2. $40-75k\", \"val\": \"3. Somewhat difficult\", \"count\": 180}, {\"income_cat\": \"2. $40-75k\", \"val\": \"4. Very difficult\", \"count\": 31}, {\"income_cat\": \"1. Less than $40k\", \"val\": \"1. Very easy\", \"count\": 633}, {\"income_cat\": \"1. Less than $40k\", \"val\": \"2. Somewhat easy\", \"count\": 476}, {\"income_cat\": \"1. Less than $40k\", \"val\": \"3. Somewhat difficult\", \"count\": 223}, {\"income_cat\": \"1. Less than $40k\", \"val\": \"4. Very difficult\", \"count\": 64}]}}, {\"mode\": \"vega-lite\"});\n",
       "</script>"
      ],
      "text/plain": [
       "alt.Chart(...)"
      ]
     },
     "execution_count": 10,
     "metadata": {},
     "output_type": "execute_result"
    }
   ],
   "source": [
    "A_5304.vote"
   ]
  },
  {
   "cell_type": "code",
   "execution_count": 13,
   "metadata": {},
   "outputs": [
    {
     "data": {
      "text/html": [
       "\n",
       "<div id=\"altair-viz-e65b70be22e34267abfe9dc57a307047\"></div>\n",
       "<script type=\"text/javascript\">\n",
       "  var VEGA_DEBUG = (typeof VEGA_DEBUG == \"undefined\") ? {} : VEGA_DEBUG;\n",
       "  (function(spec, embedOpt){\n",
       "    let outputDiv = document.currentScript.previousElementSibling;\n",
       "    if (outputDiv.id !== \"altair-viz-e65b70be22e34267abfe9dc57a307047\") {\n",
       "      outputDiv = document.getElementById(\"altair-viz-e65b70be22e34267abfe9dc57a307047\");\n",
       "    }\n",
       "    const paths = {\n",
       "      \"vega\": \"https://cdn.jsdelivr.net/npm//vega@5?noext\",\n",
       "      \"vega-lib\": \"https://cdn.jsdelivr.net/npm//vega-lib?noext\",\n",
       "      \"vega-lite\": \"https://cdn.jsdelivr.net/npm//vega-lite@4.17.0?noext\",\n",
       "      \"vega-embed\": \"https://cdn.jsdelivr.net/npm//vega-embed@6?noext\",\n",
       "    };\n",
       "\n",
       "    function maybeLoadScript(lib, version) {\n",
       "      var key = `${lib.replace(\"-\", \"\")}_version`;\n",
       "      return (VEGA_DEBUG[key] == version) ?\n",
       "        Promise.resolve(paths[lib]) :\n",
       "        new Promise(function(resolve, reject) {\n",
       "          var s = document.createElement('script');\n",
       "          document.getElementsByTagName(\"head\")[0].appendChild(s);\n",
       "          s.async = true;\n",
       "          s.onload = () => {\n",
       "            VEGA_DEBUG[key] = version;\n",
       "            return resolve(paths[lib]);\n",
       "          };\n",
       "          s.onerror = () => reject(`Error loading script: ${paths[lib]}`);\n",
       "          s.src = paths[lib];\n",
       "        });\n",
       "    }\n",
       "\n",
       "    function showError(err) {\n",
       "      outputDiv.innerHTML = `<div class=\"error\" style=\"color:red;\">${err}</div>`;\n",
       "      throw err;\n",
       "    }\n",
       "\n",
       "    function displayChart(vegaEmbed) {\n",
       "      vegaEmbed(outputDiv, spec, embedOpt)\n",
       "        .catch(err => showError(`Javascript Error: ${err.message}<br>This usually means there's a typo in your chart specification. See the javascript console for the full traceback.`));\n",
       "    }\n",
       "\n",
       "    if(typeof define === \"function\" && define.amd) {\n",
       "      requirejs.config({paths});\n",
       "      require([\"vega-embed\"], displayChart, err => showError(`Error loading script: ${err.message}`));\n",
       "    } else {\n",
       "      maybeLoadScript(\"vega\", \"5\")\n",
       "        .then(() => maybeLoadScript(\"vega-lite\", \"4.17.0\"))\n",
       "        .then(() => maybeLoadScript(\"vega-embed\", \"6\"))\n",
       "        .catch(showError)\n",
       "        .then(() => displayChart(vegaEmbed));\n",
       "    }\n",
       "  })({\"config\": {\"view\": {\"continuousWidth\": 400, \"continuousHeight\": 300}}, \"data\": {\"name\": \"data-e6654408055e7f5f42ed609ed3194db3\"}, \"mark\": {\"type\": \"bar\", \"size\": 50}, \"encoding\": {\"color\": {\"field\": \"val\", \"legend\": {\"labelFontSize\": 13, \"titleFontSize\": 14}, \"scale\": {\"scheme\": \"set2\"}, \"title\": \"Answer\", \"type\": \"nominal\"}, \"tooltip\": {\"field\": \"val\", \"type\": \"nominal\"}, \"x\": {\"axis\": {\"labelFontSize\": 16}, \"field\": \"count\", \"stack\": \"normalize\", \"title\": \"Proportion\", \"type\": \"quantitative\"}, \"y\": {\"axis\": {\"labelFontSize\": 16}, \"field\": \"income_cat\", \"title\": \"Income category\", \"type\": \"nominal\"}}, \"height\": 300, \"title\": \"In general, which of the following categories do you think best describes you?\", \"width\": 500, \"$schema\": \"https://vega.github.io/schema/vega-lite/v4.17.0.json\", \"datasets\": {\"data-e6654408055e7f5f42ed609ed3194db3\": [{\"income_cat\": \"4. $125k or more\", \"val\": \"1. I always, or almost always, vote in national elections\", \"count\": 1212}, {\"income_cat\": \"4. $125k or more\", \"val\": \"2. I sometimes vote in national elections\", \"count\": 90}, {\"income_cat\": \"4. $125k or more\", \"val\": \"3. I rarely vote in national elections\", \"count\": 46}, {\"income_cat\": \"4. $125k or more\", \"val\": \"4. I don\\u2019t vote\", \"count\": 44}, {\"income_cat\": \"3. $75-125k\", \"val\": \"1. I always, or almost always, vote in national elections\", \"count\": 1345}, {\"income_cat\": \"3. $75-125k\", \"val\": \"2. I sometimes vote in national elections\", \"count\": 114}, {\"income_cat\": \"3. $75-125k\", \"val\": \"3. I rarely vote in national elections\", \"count\": 63}, {\"income_cat\": \"3. $75-125k\", \"val\": \"4. I don\\u2019t vote\", \"count\": 100}, {\"income_cat\": \"2. $40-75k\", \"val\": \"1. I always, or almost always, vote in national elections\", \"count\": 1057}, {\"income_cat\": \"2. $40-75k\", \"val\": \"2. I sometimes vote in national elections\", \"count\": 123}, {\"income_cat\": \"2. $40-75k\", \"val\": \"3. I rarely vote in national elections\", \"count\": 82}, {\"income_cat\": \"2. $40-75k\", \"val\": \"4. I don\\u2019t vote\", \"count\": 127}, {\"income_cat\": \"1. Less than $40k\", \"val\": \"1. I always, or almost always, vote in national elections\", \"count\": 855}, {\"income_cat\": \"1. Less than $40k\", \"val\": \"2. I sometimes vote in national elections\", \"count\": 165}, {\"income_cat\": \"1. Less than $40k\", \"val\": \"3. I rarely vote in national elections\", \"count\": 150}, {\"income_cat\": \"1. Less than $40k\", \"val\": \"4. I don\\u2019t vote\", \"count\": 238}]}}, {\"mode\": \"vega-lite\"});\n",
       "</script>"
      ],
      "text/plain": [
       "alt.Chart(...)"
      ]
     },
     "execution_count": 13,
     "metadata": {},
     "output_type": "execute_result"
    }
   ],
   "source": [
    "A_5304.vote_III"
   ]
  }
 ],
 "metadata": {
  "kernelspec": {
   "display_name": "Python 3",
   "language": "python",
   "name": "python3"
  },
  "language_info": {
   "codemirror_mode": {
    "name": "ipython",
    "version": 3
   },
   "file_extension": ".py",
   "mimetype": "text/x-python",
   "name": "python",
   "nbconvert_exporter": "python",
   "pygments_lexer": "ipython3",
   "version": "3.7.3"
  }
 },
 "nbformat": 4,
 "nbformat_minor": 2
}
