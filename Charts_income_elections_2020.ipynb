{
 "cells": [
  {
   "cell_type": "markdown",
   "metadata": {},
   "source": [
    "###### Don't touch the cell below "
   ]
  },
  {
   "cell_type": "code",
   "execution_count": 2,
   "metadata": {},
   "outputs": [],
   "source": [
    "import Assignment_5304 as A_5304"
   ]
  },
  {
   "cell_type": "markdown",
   "metadata": {},
   "source": [
    "###### Background information \n",
    "The data on which these charts are based are from a poll conducted among Americans before the elections of 2020. This poll was used for [an article](https://projects.fivethirtyeight.com/non-voters-poll-2020-election/) on the blog [FiveThirtyEight](https://fivethirtyeight.com/)\n",
    "\n",
    "######  Chart information\n",
    "* Per income category every bar adds up to 100%.\n",
    "* Naturally, the bigger the color, the bigger the share of the accompanying answer. \n",
    "* By hovering over a single color you can see the answer it belongs to. \n",
    "\n",
    "###### Goal\n",
    "With the charts below I set out to discover whether there is a relation between the income level of Americans and their attitude towards politics.  "
   ]
  },
  {
   "cell_type": "markdown",
   "metadata": {},
   "source": [
    "## Start"
   ]
  },
  {
   "cell_type": "markdown",
   "metadata": {},
   "source": [
    "###### Impact of institutions"
   ]
  },
  {
   "cell_type": "code",
   "execution_count": 3,
   "metadata": {},
   "outputs": [
    {
     "data": {
      "text/html": [
       "\n",
       "<div id=\"altair-viz-4082448214ac4067bf342de8e0977cd2\"></div>\n",
       "<script type=\"text/javascript\">\n",
       "  var VEGA_DEBUG = (typeof VEGA_DEBUG == \"undefined\") ? {} : VEGA_DEBUG;\n",
       "  (function(spec, embedOpt){\n",
       "    let outputDiv = document.currentScript.previousElementSibling;\n",
       "    if (outputDiv.id !== \"altair-viz-4082448214ac4067bf342de8e0977cd2\") {\n",
       "      outputDiv = document.getElementById(\"altair-viz-4082448214ac4067bf342de8e0977cd2\");\n",
       "    }\n",
       "    const paths = {\n",
       "      \"vega\": \"https://cdn.jsdelivr.net/npm//vega@5?noext\",\n",
       "      \"vega-lib\": \"https://cdn.jsdelivr.net/npm//vega-lib?noext\",\n",
       "      \"vega-lite\": \"https://cdn.jsdelivr.net/npm//vega-lite@4.17.0?noext\",\n",
       "      \"vega-embed\": \"https://cdn.jsdelivr.net/npm//vega-embed@6?noext\",\n",
       "    };\n",
       "\n",
       "    function maybeLoadScript(lib, version) {\n",
       "      var key = `${lib.replace(\"-\", \"\")}_version`;\n",
       "      return (VEGA_DEBUG[key] == version) ?\n",
       "        Promise.resolve(paths[lib]) :\n",
       "        new Promise(function(resolve, reject) {\n",
       "          var s = document.createElement('script');\n",
       "          document.getElementsByTagName(\"head\")[0].appendChild(s);\n",
       "          s.async = true;\n",
       "          s.onload = () => {\n",
       "            VEGA_DEBUG[key] = version;\n",
       "            return resolve(paths[lib]);\n",
       "          };\n",
       "          s.onerror = () => reject(`Error loading script: ${paths[lib]}`);\n",
       "          s.src = paths[lib];\n",
       "        });\n",
       "    }\n",
       "\n",
       "    function showError(err) {\n",
       "      outputDiv.innerHTML = `<div class=\"error\" style=\"color:red;\">${err}</div>`;\n",
       "      throw err;\n",
       "    }\n",
       "\n",
       "    function displayChart(vegaEmbed) {\n",
       "      vegaEmbed(outputDiv, spec, embedOpt)\n",
       "        .catch(err => showError(`Javascript Error: ${err.message}<br>This usually means there's a typo in your chart specification. See the javascript console for the full traceback.`));\n",
       "    }\n",
       "\n",
       "    if(typeof define === \"function\" && define.amd) {\n",
       "      requirejs.config({paths});\n",
       "      require([\"vega-embed\"], displayChart, err => showError(`Error loading script: ${err.message}`));\n",
       "    } else {\n",
       "      maybeLoadScript(\"vega\", \"5\")\n",
       "        .then(() => maybeLoadScript(\"vega-lite\", \"4.17.0\"))\n",
       "        .then(() => maybeLoadScript(\"vega-embed\", \"6\"))\n",
       "        .catch(showError)\n",
       "        .then(() => displayChart(vegaEmbed));\n",
       "    }\n",
       "  })({\"config\": {\"view\": {\"continuousWidth\": 400, \"continuousHeight\": 300}}, \"hconcat\": [{\"data\": {\"name\": \"data-094f19b4d5360e0dc94f38f6b2f1528f\"}, \"mark\": {\"type\": \"bar\", \"size\": 50}, \"encoding\": {\"color\": {\"field\": \"val\", \"legend\": {\"labelFontSize\": 13, \"titleFontSize\": 14}, \"scale\": {\"scheme\": \"set2\"}, \"title\": \"Answer\", \"type\": \"nominal\"}, \"tooltip\": {\"field\": \"val\", \"type\": \"nominal\"}, \"x\": {\"axis\": {\"labelFontSize\": 16}, \"field\": \"count\", \"stack\": \"normalize\", \"title\": \"Proportion\", \"type\": \"quantitative\"}, \"y\": {\"axis\": {\"labelFontSize\": 16}, \"field\": \"income_cat\", \"title\": \"Income category\", \"type\": \"nominal\"}}, \"height\": 300, \"title\": \"Elected officials in Washington, D.C. (e.g. the president, member of Congress)\", \"width\": 500}, {\"data\": {\"name\": \"data-3b201677cd41b614c0b2913227e36d1b\"}, \"mark\": {\"type\": \"bar\", \"size\": 50}, \"encoding\": {\"color\": {\"field\": \"val\", \"legend\": {\"labelFontSize\": 13, \"titleFontSize\": 14}, \"scale\": {\"scheme\": \"set2\"}, \"title\": \"Answer\", \"type\": \"nominal\"}, \"tooltip\": {\"field\": \"val\", \"type\": \"nominal\"}, \"x\": {\"axis\": {\"labelFontSize\": 16}, \"field\": \"count\", \"stack\": \"normalize\", \"title\": \"Proportion\", \"type\": \"quantitative\"}, \"y\": {\"axis\": {\"labelFontSize\": 16}, \"field\": \"income_cat\", \"title\": \"Income category\", \"type\": \"nominal\"}}, \"height\": 300, \"title\": \"Elected officials in my state (e.g. governor, state representative)\", \"width\": 500}], \"title\": \"Perceived impact of institutions\", \"$schema\": \"https://vega.github.io/schema/vega-lite/v4.17.0.json\", \"datasets\": {\"data-094f19b4d5360e0dc94f38f6b2f1528f\": [{\"income_cat\": \"4. $125k or more\", \"val\": \"1. A significant impact\", \"count\": 623}, {\"income_cat\": \"4. $125k or more\", \"val\": \"2. Somewhat of an impact\", \"count\": 527}, {\"income_cat\": \"4. $125k or more\", \"val\": \"3. Just a slight impact\", \"count\": 195}, {\"income_cat\": \"4. $125k or more\", \"val\": \"4. No impact at all\", \"count\": 43}, {\"income_cat\": \"3. $75-125k\", \"val\": \"1. A significant impact\", \"count\": 718}, {\"income_cat\": \"3. $75-125k\", \"val\": \"2. Somewhat of an impact\", \"count\": 584}, {\"income_cat\": \"3. $75-125k\", \"val\": \"3. Just a slight impact\", \"count\": 237}, {\"income_cat\": \"3. $75-125k\", \"val\": \"4. No impact at all\", \"count\": 84}, {\"income_cat\": \"2. $40-75k\", \"val\": \"1. A significant impact\", \"count\": 621}, {\"income_cat\": \"2. $40-75k\", \"val\": \"2. Somewhat of an impact\", \"count\": 471}, {\"income_cat\": \"2. $40-75k\", \"val\": \"3. Just a slight impact\", \"count\": 206}, {\"income_cat\": \"2. $40-75k\", \"val\": \"4. No impact at all\", \"count\": 82}, {\"income_cat\": \"1. Less than $40k\", \"val\": \"1. A significant impact\", \"count\": 634}, {\"income_cat\": \"1. Less than $40k\", \"val\": \"2. Somewhat of an impact\", \"count\": 441}, {\"income_cat\": \"1. Less than $40k\", \"val\": \"3. Just a slight impact\", \"count\": 196}, {\"income_cat\": \"1. Less than $40k\", \"val\": \"4. No impact at all\", \"count\": 135}], \"data-3b201677cd41b614c0b2913227e36d1b\": [{\"income_cat\": \"4. $125k or more\", \"val\": \"1. A significant impact\", \"count\": 569}, {\"income_cat\": \"4. $125k or more\", \"val\": \"2. Somewhat of an impact\", \"count\": 594}, {\"income_cat\": \"4. $125k or more\", \"val\": \"3. Just a slight impact\", \"count\": 186}, {\"income_cat\": \"4. $125k or more\", \"val\": \"4. No impact at all\", \"count\": 39}, {\"income_cat\": \"3. $75-125k\", \"val\": \"1. A significant impact\", \"count\": 675}, {\"income_cat\": \"3. $75-125k\", \"val\": \"2. Somewhat of an impact\", \"count\": 677}, {\"income_cat\": \"3. $75-125k\", \"val\": \"3. Just a slight impact\", \"count\": 198}, {\"income_cat\": \"3. $75-125k\", \"val\": \"4. No impact at all\", \"count\": 71}, {\"income_cat\": \"2. $40-75k\", \"val\": \"1. A significant impact\", \"count\": 571}, {\"income_cat\": \"2. $40-75k\", \"val\": \"2. Somewhat of an impact\", \"count\": 551}, {\"income_cat\": \"2. $40-75k\", \"val\": \"3. Just a slight impact\", \"count\": 182}, {\"income_cat\": \"2. $40-75k\", \"val\": \"4. No impact at all\", \"count\": 79}, {\"income_cat\": \"1. Less than $40k\", \"val\": \"1. A significant impact\", \"count\": 530}, {\"income_cat\": \"1. Less than $40k\", \"val\": \"2. Somewhat of an impact\", \"count\": 492}, {\"income_cat\": \"1. Less than $40k\", \"val\": \"3. Just a slight impact\", \"count\": 244}, {\"income_cat\": \"1. Less than $40k\", \"val\": \"4. No impact at all\", \"count\": 139}]}}, {\"mode\": \"vega-lite\"});\n",
       "</script>"
      ],
      "text/plain": [
       "alt.HConcatChart(...)"
      ]
     },
     "execution_count": 3,
     "metadata": {},
     "output_type": "execute_result"
    }
   ],
   "source": [
    "A_5304.impact"
   ]
  },
  {
   "cell_type": "code",
   "execution_count": 4,
   "metadata": {},
   "outputs": [
    {
     "data": {
      "text/html": [
       "\n",
       "<div id=\"altair-viz-8bfb92ec686a4a3a8b803dc29cd0d23d\"></div>\n",
       "<script type=\"text/javascript\">\n",
       "  var VEGA_DEBUG = (typeof VEGA_DEBUG == \"undefined\") ? {} : VEGA_DEBUG;\n",
       "  (function(spec, embedOpt){\n",
       "    let outputDiv = document.currentScript.previousElementSibling;\n",
       "    if (outputDiv.id !== \"altair-viz-8bfb92ec686a4a3a8b803dc29cd0d23d\") {\n",
       "      outputDiv = document.getElementById(\"altair-viz-8bfb92ec686a4a3a8b803dc29cd0d23d\");\n",
       "    }\n",
       "    const paths = {\n",
       "      \"vega\": \"https://cdn.jsdelivr.net/npm//vega@5?noext\",\n",
       "      \"vega-lib\": \"https://cdn.jsdelivr.net/npm//vega-lib?noext\",\n",
       "      \"vega-lite\": \"https://cdn.jsdelivr.net/npm//vega-lite@4.17.0?noext\",\n",
       "      \"vega-embed\": \"https://cdn.jsdelivr.net/npm//vega-embed@6?noext\",\n",
       "    };\n",
       "\n",
       "    function maybeLoadScript(lib, version) {\n",
       "      var key = `${lib.replace(\"-\", \"\")}_version`;\n",
       "      return (VEGA_DEBUG[key] == version) ?\n",
       "        Promise.resolve(paths[lib]) :\n",
       "        new Promise(function(resolve, reject) {\n",
       "          var s = document.createElement('script');\n",
       "          document.getElementsByTagName(\"head\")[0].appendChild(s);\n",
       "          s.async = true;\n",
       "          s.onload = () => {\n",
       "            VEGA_DEBUG[key] = version;\n",
       "            return resolve(paths[lib]);\n",
       "          };\n",
       "          s.onerror = () => reject(`Error loading script: ${paths[lib]}`);\n",
       "          s.src = paths[lib];\n",
       "        });\n",
       "    }\n",
       "\n",
       "    function showError(err) {\n",
       "      outputDiv.innerHTML = `<div class=\"error\" style=\"color:red;\">${err}</div>`;\n",
       "      throw err;\n",
       "    }\n",
       "\n",
       "    function displayChart(vegaEmbed) {\n",
       "      vegaEmbed(outputDiv, spec, embedOpt)\n",
       "        .catch(err => showError(`Javascript Error: ${err.message}<br>This usually means there's a typo in your chart specification. See the javascript console for the full traceback.`));\n",
       "    }\n",
       "\n",
       "    if(typeof define === \"function\" && define.amd) {\n",
       "      requirejs.config({paths});\n",
       "      require([\"vega-embed\"], displayChart, err => showError(`Error loading script: ${err.message}`));\n",
       "    } else {\n",
       "      maybeLoadScript(\"vega\", \"5\")\n",
       "        .then(() => maybeLoadScript(\"vega-lite\", \"4.17.0\"))\n",
       "        .then(() => maybeLoadScript(\"vega-embed\", \"6\"))\n",
       "        .catch(showError)\n",
       "        .then(() => displayChart(vegaEmbed));\n",
       "    }\n",
       "  })({\"config\": {\"view\": {\"continuousWidth\": 400, \"continuousHeight\": 300}}, \"hconcat\": [{\"data\": {\"name\": \"data-697547319174f33c9986df26c7b31c35\"}, \"mark\": {\"type\": \"bar\", \"size\": 50}, \"encoding\": {\"color\": {\"field\": \"val\", \"legend\": {\"labelFontSize\": 13, \"titleFontSize\": 14}, \"scale\": {\"scheme\": \"set2\"}, \"title\": \"Answer\", \"type\": \"nominal\"}, \"tooltip\": {\"field\": \"val\", \"type\": \"nominal\"}, \"x\": {\"axis\": {\"labelFontSize\": 16}, \"field\": \"count\", \"stack\": \"normalize\", \"title\": \"Proportion\", \"type\": \"quantitative\"}, \"y\": {\"axis\": {\"labelFontSize\": 16}, \"field\": \"income_cat\", \"title\": \"Income category\", \"type\": \"nominal\"}}, \"height\": 300, \"title\": \"Elected officials in my city or community (e.g. mayor, city council)\", \"width\": 500}, {\"data\": {\"name\": \"data-5193fc101e46551a28458a489332449e\"}, \"mark\": {\"type\": \"bar\", \"size\": 50}, \"encoding\": {\"color\": {\"field\": \"val\", \"legend\": {\"labelFontSize\": 13, \"titleFontSize\": 14}, \"scale\": {\"scheme\": \"set2\"}, \"title\": \"Answer\", \"type\": \"nominal\"}, \"tooltip\": {\"field\": \"val\", \"type\": \"nominal\"}, \"x\": {\"axis\": {\"labelFontSize\": 16}, \"field\": \"count\", \"stack\": \"normalize\", \"title\": \"Proportion\", \"type\": \"quantitative\"}, \"y\": {\"axis\": {\"labelFontSize\": 16}, \"field\": \"income_cat\", \"title\": \"Income category\", \"type\": \"nominal\"}}, \"height\": 300, \"title\": \"News media\", \"width\": 500}], \"title\": \"Perceived impact of institutions\", \"$schema\": \"https://vega.github.io/schema/vega-lite/v4.17.0.json\", \"datasets\": {\"data-697547319174f33c9986df26c7b31c35\": [{\"income_cat\": \"4. $125k or more\", \"val\": \"1. A significant impact\", \"count\": 432}, {\"income_cat\": \"4. $125k or more\", \"val\": \"2. Somewhat of an impact\", \"count\": 617}, {\"income_cat\": \"4. $125k or more\", \"val\": \"3. Just a slight impact\", \"count\": 284}, {\"income_cat\": \"4. $125k or more\", \"val\": \"4. No impact at all\", \"count\": 56}, {\"income_cat\": \"3. $75-125k\", \"val\": \"1. A significant impact\", \"count\": 526}, {\"income_cat\": \"3. $75-125k\", \"val\": \"2. Somewhat of an impact\", \"count\": 694}, {\"income_cat\": \"3. $75-125k\", \"val\": \"3. Just a slight impact\", \"count\": 315}, {\"income_cat\": \"3. $75-125k\", \"val\": \"4. No impact at all\", \"count\": 90}, {\"income_cat\": \"2. $40-75k\", \"val\": \"1. A significant impact\", \"count\": 466}, {\"income_cat\": \"2. $40-75k\", \"val\": \"2. Somewhat of an impact\", \"count\": 548}, {\"income_cat\": \"2. $40-75k\", \"val\": \"3. Just a slight impact\", \"count\": 265}, {\"income_cat\": \"2. $40-75k\", \"val\": \"4. No impact at all\", \"count\": 103}, {\"income_cat\": \"1. Less than $40k\", \"val\": \"1. A significant impact\", \"count\": 453}, {\"income_cat\": \"1. Less than $40k\", \"val\": \"2. Somewhat of an impact\", \"count\": 493}, {\"income_cat\": \"1. Less than $40k\", \"val\": \"3. Just a slight impact\", \"count\": 291}, {\"income_cat\": \"1. Less than $40k\", \"val\": \"4. No impact at all\", \"count\": 170}], \"data-5193fc101e46551a28458a489332449e\": [{\"income_cat\": \"4. $125k or more\", \"val\": \"1. A significant impact\", \"count\": 242}, {\"income_cat\": \"4. $125k or more\", \"val\": \"2. Somewhat of an impact\", \"count\": 505}, {\"income_cat\": \"4. $125k or more\", \"val\": \"3. Just a slight impact\", \"count\": 422}, {\"income_cat\": \"4. $125k or more\", \"val\": \"4. No impact at all\", \"count\": 220}, {\"income_cat\": \"3. $75-125k\", \"val\": \"1. A significant impact\", \"count\": 297}, {\"income_cat\": \"3. $75-125k\", \"val\": \"2. Somewhat of an impact\", \"count\": 606}, {\"income_cat\": \"3. $75-125k\", \"val\": \"3. Just a slight impact\", \"count\": 430}, {\"income_cat\": \"3. $75-125k\", \"val\": \"4. No impact at all\", \"count\": 290}, {\"income_cat\": \"2. $40-75k\", \"val\": \"1. A significant impact\", \"count\": 260}, {\"income_cat\": \"2. $40-75k\", \"val\": \"2. Somewhat of an impact\", \"count\": 477}, {\"income_cat\": \"2. $40-75k\", \"val\": \"3. Just a slight impact\", \"count\": 379}, {\"income_cat\": \"2. $40-75k\", \"val\": \"4. No impact at all\", \"count\": 263}, {\"income_cat\": \"1. Less than $40k\", \"val\": \"1. A significant impact\", \"count\": 291}, {\"income_cat\": \"1. Less than $40k\", \"val\": \"2. Somewhat of an impact\", \"count\": 460}, {\"income_cat\": \"1. Less than $40k\", \"val\": \"3. Just a slight impact\", \"count\": 362}, {\"income_cat\": \"1. Less than $40k\", \"val\": \"4. No impact at all\", \"count\": 294}]}}, {\"mode\": \"vega-lite\"});\n",
       "</script>"
      ],
      "text/plain": [
       "alt.HConcatChart(...)"
      ]
     },
     "execution_count": 4,
     "metadata": {},
     "output_type": "execute_result"
    }
   ],
   "source": [
    "A_5304.impact_I"
   ]
  },
  {
   "cell_type": "markdown",
   "metadata": {},
   "source": [
    "###### Trust"
   ]
  },
  {
   "cell_type": "code",
   "execution_count": 5,
   "metadata": {},
   "outputs": [
    {
     "data": {
      "text/html": [
       "\n",
       "<div id=\"altair-viz-0278dd74831e4bcba5edaeda686389cc\"></div>\n",
       "<script type=\"text/javascript\">\n",
       "  var VEGA_DEBUG = (typeof VEGA_DEBUG == \"undefined\") ? {} : VEGA_DEBUG;\n",
       "  (function(spec, embedOpt){\n",
       "    let outputDiv = document.currentScript.previousElementSibling;\n",
       "    if (outputDiv.id !== \"altair-viz-0278dd74831e4bcba5edaeda686389cc\") {\n",
       "      outputDiv = document.getElementById(\"altair-viz-0278dd74831e4bcba5edaeda686389cc\");\n",
       "    }\n",
       "    const paths = {\n",
       "      \"vega\": \"https://cdn.jsdelivr.net/npm//vega@5?noext\",\n",
       "      \"vega-lib\": \"https://cdn.jsdelivr.net/npm//vega-lib?noext\",\n",
       "      \"vega-lite\": \"https://cdn.jsdelivr.net/npm//vega-lite@4.17.0?noext\",\n",
       "      \"vega-embed\": \"https://cdn.jsdelivr.net/npm//vega-embed@6?noext\",\n",
       "    };\n",
       "\n",
       "    function maybeLoadScript(lib, version) {\n",
       "      var key = `${lib.replace(\"-\", \"\")}_version`;\n",
       "      return (VEGA_DEBUG[key] == version) ?\n",
       "        Promise.resolve(paths[lib]) :\n",
       "        new Promise(function(resolve, reject) {\n",
       "          var s = document.createElement('script');\n",
       "          document.getElementsByTagName(\"head\")[0].appendChild(s);\n",
       "          s.async = true;\n",
       "          s.onload = () => {\n",
       "            VEGA_DEBUG[key] = version;\n",
       "            return resolve(paths[lib]);\n",
       "          };\n",
       "          s.onerror = () => reject(`Error loading script: ${paths[lib]}`);\n",
       "          s.src = paths[lib];\n",
       "        });\n",
       "    }\n",
       "\n",
       "    function showError(err) {\n",
       "      outputDiv.innerHTML = `<div class=\"error\" style=\"color:red;\">${err}</div>`;\n",
       "      throw err;\n",
       "    }\n",
       "\n",
       "    function displayChart(vegaEmbed) {\n",
       "      vegaEmbed(outputDiv, spec, embedOpt)\n",
       "        .catch(err => showError(`Javascript Error: ${err.message}<br>This usually means there's a typo in your chart specification. See the javascript console for the full traceback.`));\n",
       "    }\n",
       "\n",
       "    if(typeof define === \"function\" && define.amd) {\n",
       "      requirejs.config({paths});\n",
       "      require([\"vega-embed\"], displayChart, err => showError(`Error loading script: ${err.message}`));\n",
       "    } else {\n",
       "      maybeLoadScript(\"vega\", \"5\")\n",
       "        .then(() => maybeLoadScript(\"vega-lite\", \"4.17.0\"))\n",
       "        .then(() => maybeLoadScript(\"vega-embed\", \"6\"))\n",
       "        .catch(showError)\n",
       "        .then(() => displayChart(vegaEmbed));\n",
       "    }\n",
       "  })({\"config\": {\"view\": {\"continuousWidth\": 400, \"continuousHeight\": 300}}, \"hconcat\": [{\"data\": {\"name\": \"data-720a7809ece7c6b991752f5541b808fd\"}, \"mark\": {\"type\": \"bar\", \"size\": 50}, \"encoding\": {\"color\": {\"field\": \"val\", \"legend\": {\"labelFontSize\": 13, \"titleFontSize\": 14}, \"scale\": {\"scheme\": \"set2\"}, \"title\": \"Answer\", \"type\": \"nominal\"}, \"tooltip\": {\"field\": \"val\", \"type\": \"nominal\"}, \"x\": {\"axis\": {\"labelFontSize\": 16}, \"field\": \"count\", \"stack\": \"normalize\", \"title\": \"Proportion\", \"type\": \"quantitative\"}, \"y\": {\"axis\": {\"labelFontSize\": 16}, \"field\": \"income_cat\", \"title\": \"Income category\", \"type\": \"nominal\"}}, \"height\": 300, \"title\": \"The presidency\", \"width\": 500}, {\"data\": {\"name\": \"data-11a84acf9ec408e9ea575ac0c46c8738\"}, \"mark\": {\"type\": \"bar\", \"size\": 50}, \"encoding\": {\"color\": {\"field\": \"val\", \"legend\": {\"labelFontSize\": 13, \"titleFontSize\": 14}, \"scale\": {\"scheme\": \"set2\"}, \"title\": \"Answer\", \"type\": \"nominal\"}, \"tooltip\": {\"field\": \"val\", \"type\": \"nominal\"}, \"x\": {\"axis\": {\"labelFontSize\": 16}, \"field\": \"count\", \"stack\": \"normalize\", \"title\": \"Proportion\", \"type\": \"quantitative\"}, \"y\": {\"axis\": {\"labelFontSize\": 16}, \"field\": \"income_cat\", \"title\": \"Income category\", \"type\": \"nominal\"}}, \"height\": 300, \"title\": \"Congress\", \"width\": 500}], \"title\": \"How much do you trust: \", \"$schema\": \"https://vega.github.io/schema/vega-lite/v4.17.0.json\", \"datasets\": {\"data-720a7809ece7c6b991752f5541b808fd\": [{\"income_cat\": \"4. $125k or more\", \"val\": \"1. A lot\", \"count\": 204}, {\"income_cat\": \"4. $125k or more\", \"val\": \"2. Some\", \"count\": 361}, {\"income_cat\": \"4. $125k or more\", \"val\": \"3. Not much\", \"count\": 257}, {\"income_cat\": \"4. $125k or more\", \"val\": \"4. Not at all\", \"count\": 564}, {\"income_cat\": \"3. $75-125k\", \"val\": \"1. A lot\", \"count\": 259}, {\"income_cat\": \"3. $75-125k\", \"val\": \"2. Some\", \"count\": 453}, {\"income_cat\": \"3. $75-125k\", \"val\": \"3. Not much\", \"count\": 289}, {\"income_cat\": \"3. $75-125k\", \"val\": \"4. Not at all\", \"count\": 615}, {\"income_cat\": \"2. $40-75k\", \"val\": \"1. A lot\", \"count\": 250}, {\"income_cat\": \"2. $40-75k\", \"val\": \"2. Some\", \"count\": 370}, {\"income_cat\": \"2. $40-75k\", \"val\": \"3. Not much\", \"count\": 262}, {\"income_cat\": \"2. $40-75k\", \"val\": \"4. Not at all\", \"count\": 499}, {\"income_cat\": \"1. Less than $40k\", \"val\": \"1. A lot\", \"count\": 235}, {\"income_cat\": \"1. Less than $40k\", \"val\": \"2. Some\", \"count\": 379}, {\"income_cat\": \"1. Less than $40k\", \"val\": \"3. Not much\", \"count\": 285}, {\"income_cat\": \"1. Less than $40k\", \"val\": \"4. Not at all\", \"count\": 507}], \"data-11a84acf9ec408e9ea575ac0c46c8738\": [{\"income_cat\": \"4. $125k or more\", \"val\": \"1. A lot\", \"count\": 34}, {\"income_cat\": \"4. $125k or more\", \"val\": \"2. Some\", \"count\": 506}, {\"income_cat\": \"4. $125k or more\", \"val\": \"3. Not much\", \"count\": 597}, {\"income_cat\": \"4. $125k or more\", \"val\": \"4. Not at all\", \"count\": 252}, {\"income_cat\": \"3. $75-125k\", \"val\": \"1. A lot\", \"count\": 57}, {\"income_cat\": \"3. $75-125k\", \"val\": \"2. Some\", \"count\": 551}, {\"income_cat\": \"3. $75-125k\", \"val\": \"3. Not much\", \"count\": 676}, {\"income_cat\": \"3. $75-125k\", \"val\": \"4. Not at all\", \"count\": 333}, {\"income_cat\": \"2. $40-75k\", \"val\": \"1. A lot\", \"count\": 60}, {\"income_cat\": \"2. $40-75k\", \"val\": \"2. Some\", \"count\": 461}, {\"income_cat\": \"2. $40-75k\", \"val\": \"3. Not much\", \"count\": 561}, {\"income_cat\": \"2. $40-75k\", \"val\": \"4. Not at all\", \"count\": 298}, {\"income_cat\": \"1. Less than $40k\", \"val\": \"1. A lot\", \"count\": 77}, {\"income_cat\": \"1. Less than $40k\", \"val\": \"2. Some\", \"count\": 482}, {\"income_cat\": \"1. Less than $40k\", \"val\": \"3. Not much\", \"count\": 520}, {\"income_cat\": \"1. Less than $40k\", \"val\": \"4. Not at all\", \"count\": 322}]}}, {\"mode\": \"vega-lite\"});\n",
       "</script>"
      ],
      "text/plain": [
       "alt.HConcatChart(...)"
      ]
     },
     "execution_count": 5,
     "metadata": {},
     "output_type": "execute_result"
    }
   ],
   "source": [
    "A_5304.trust"
   ]
  },
  {
   "cell_type": "code",
   "execution_count": 6,
   "metadata": {
    "scrolled": true
   },
   "outputs": [
    {
     "data": {
      "text/html": [
       "\n",
       "<div id=\"altair-viz-5a105f37977c4602ab45cdedf02b01cf\"></div>\n",
       "<script type=\"text/javascript\">\n",
       "  var VEGA_DEBUG = (typeof VEGA_DEBUG == \"undefined\") ? {} : VEGA_DEBUG;\n",
       "  (function(spec, embedOpt){\n",
       "    let outputDiv = document.currentScript.previousElementSibling;\n",
       "    if (outputDiv.id !== \"altair-viz-5a105f37977c4602ab45cdedf02b01cf\") {\n",
       "      outputDiv = document.getElementById(\"altair-viz-5a105f37977c4602ab45cdedf02b01cf\");\n",
       "    }\n",
       "    const paths = {\n",
       "      \"vega\": \"https://cdn.jsdelivr.net/npm//vega@5?noext\",\n",
       "      \"vega-lib\": \"https://cdn.jsdelivr.net/npm//vega-lib?noext\",\n",
       "      \"vega-lite\": \"https://cdn.jsdelivr.net/npm//vega-lite@4.17.0?noext\",\n",
       "      \"vega-embed\": \"https://cdn.jsdelivr.net/npm//vega-embed@6?noext\",\n",
       "    };\n",
       "\n",
       "    function maybeLoadScript(lib, version) {\n",
       "      var key = `${lib.replace(\"-\", \"\")}_version`;\n",
       "      return (VEGA_DEBUG[key] == version) ?\n",
       "        Promise.resolve(paths[lib]) :\n",
       "        new Promise(function(resolve, reject) {\n",
       "          var s = document.createElement('script');\n",
       "          document.getElementsByTagName(\"head\")[0].appendChild(s);\n",
       "          s.async = true;\n",
       "          s.onload = () => {\n",
       "            VEGA_DEBUG[key] = version;\n",
       "            return resolve(paths[lib]);\n",
       "          };\n",
       "          s.onerror = () => reject(`Error loading script: ${paths[lib]}`);\n",
       "          s.src = paths[lib];\n",
       "        });\n",
       "    }\n",
       "\n",
       "    function showError(err) {\n",
       "      outputDiv.innerHTML = `<div class=\"error\" style=\"color:red;\">${err}</div>`;\n",
       "      throw err;\n",
       "    }\n",
       "\n",
       "    function displayChart(vegaEmbed) {\n",
       "      vegaEmbed(outputDiv, spec, embedOpt)\n",
       "        .catch(err => showError(`Javascript Error: ${err.message}<br>This usually means there's a typo in your chart specification. See the javascript console for the full traceback.`));\n",
       "    }\n",
       "\n",
       "    if(typeof define === \"function\" && define.amd) {\n",
       "      requirejs.config({paths});\n",
       "      require([\"vega-embed\"], displayChart, err => showError(`Error loading script: ${err.message}`));\n",
       "    } else {\n",
       "      maybeLoadScript(\"vega\", \"5\")\n",
       "        .then(() => maybeLoadScript(\"vega-lite\", \"4.17.0\"))\n",
       "        .then(() => maybeLoadScript(\"vega-embed\", \"6\"))\n",
       "        .catch(showError)\n",
       "        .then(() => displayChart(vegaEmbed));\n",
       "    }\n",
       "  })({\"config\": {\"view\": {\"continuousWidth\": 400, \"continuousHeight\": 300}}, \"hconcat\": [{\"data\": {\"name\": \"data-87ac9b7d1918f726c7712bda5cf0a459\"}, \"mark\": {\"type\": \"bar\", \"size\": 50}, \"encoding\": {\"color\": {\"field\": \"val\", \"legend\": {\"labelFontSize\": 13, \"titleFontSize\": 14}, \"scale\": {\"scheme\": \"set2\"}, \"title\": \"Answer\", \"type\": \"nominal\"}, \"tooltip\": {\"field\": \"val\", \"type\": \"nominal\"}, \"x\": {\"axis\": {\"labelFontSize\": 16}, \"field\": \"count\", \"stack\": \"normalize\", \"title\": \"Proportion\", \"type\": \"quantitative\"}, \"y\": {\"axis\": {\"labelFontSize\": 16}, \"field\": \"income_cat\", \"title\": \"Income category\", \"type\": \"nominal\"}}, \"height\": 300, \"title\": \"Election officials\", \"width\": 500}, {\"data\": {\"name\": \"data-51cbe7227b1a7bd0d68a27288e981bd5\"}, \"mark\": {\"type\": \"bar\", \"size\": 50}, \"encoding\": {\"color\": {\"field\": \"val\", \"legend\": {\"labelFontSize\": 13, \"titleFontSize\": 14}, \"scale\": {\"scheme\": \"set2\"}, \"title\": \"Answer\", \"type\": \"nominal\"}, \"tooltip\": {\"field\": \"val\", \"type\": \"nominal\"}, \"x\": {\"axis\": {\"labelFontSize\": 16}, \"field\": \"count\", \"stack\": \"normalize\", \"title\": \"Proportion\", \"type\": \"quantitative\"}, \"y\": {\"axis\": {\"labelFontSize\": 16}, \"field\": \"income_cat\", \"title\": \"Income category\", \"type\": \"nominal\"}}, \"height\": 300, \"title\": \"The news media\", \"width\": 500}], \"title\": \"How much do you trust: \", \"$schema\": \"https://vega.github.io/schema/vega-lite/v4.17.0.json\", \"datasets\": {\"data-87ac9b7d1918f726c7712bda5cf0a459\": [{\"income_cat\": \"4. $125k or more\", \"val\": \"1. A lot\", \"count\": 178}, {\"income_cat\": \"4. $125k or more\", \"val\": \"2. Some\", \"count\": 654}, {\"income_cat\": \"4. $125k or more\", \"val\": \"3. Not much\", \"count\": 414}, {\"income_cat\": \"4. $125k or more\", \"val\": \"4. Not at all\", \"count\": 141}, {\"income_cat\": \"3. $75-125k\", \"val\": \"1. A lot\", \"count\": 146}, {\"income_cat\": \"3. $75-125k\", \"val\": \"2. Some\", \"count\": 778}, {\"income_cat\": \"3. $75-125k\", \"val\": \"3. Not much\", \"count\": 507}, {\"income_cat\": \"3. $75-125k\", \"val\": \"4. Not at all\", \"count\": 186}, {\"income_cat\": \"2. $40-75k\", \"val\": \"1. A lot\", \"count\": 124}, {\"income_cat\": \"2. $40-75k\", \"val\": \"2. Some\", \"count\": 616}, {\"income_cat\": \"2. $40-75k\", \"val\": \"3. Not much\", \"count\": 461}, {\"income_cat\": \"2. $40-75k\", \"val\": \"4. Not at all\", \"count\": 183}, {\"income_cat\": \"1. Less than $40k\", \"val\": \"1. A lot\", \"count\": 93}, {\"income_cat\": \"1. Less than $40k\", \"val\": \"2. Some\", \"count\": 586}, {\"income_cat\": \"1. Less than $40k\", \"val\": \"3. Not much\", \"count\": 482}, {\"income_cat\": \"1. Less than $40k\", \"val\": \"4. Not at all\", \"count\": 238}], \"data-51cbe7227b1a7bd0d68a27288e981bd5\": [{\"income_cat\": \"4. $125k or more\", \"val\": \"1. A lot\", \"count\": 111}, {\"income_cat\": \"4. $125k or more\", \"val\": \"2. Some\", \"count\": 491}, {\"income_cat\": \"4. $125k or more\", \"val\": \"3. Not much\", \"count\": 374}, {\"income_cat\": \"4. $125k or more\", \"val\": \"4. Not at all\", \"count\": 409}, {\"income_cat\": \"3. $75-125k\", \"val\": \"1. A lot\", \"count\": 97}, {\"income_cat\": \"3. $75-125k\", \"val\": \"2. Some\", \"count\": 566}, {\"income_cat\": \"3. $75-125k\", \"val\": \"3. Not much\", \"count\": 465}, {\"income_cat\": \"3. $75-125k\", \"val\": \"4. Not at all\", \"count\": 490}, {\"income_cat\": \"2. $40-75k\", \"val\": \"1. A lot\", \"count\": 100}, {\"income_cat\": \"2. $40-75k\", \"val\": \"2. Some\", \"count\": 457}, {\"income_cat\": \"2. $40-75k\", \"val\": \"3. Not much\", \"count\": 377}, {\"income_cat\": \"2. $40-75k\", \"val\": \"4. Not at all\", \"count\": 451}, {\"income_cat\": \"1. Less than $40k\", \"val\": \"1. A lot\", \"count\": 109}, {\"income_cat\": \"1. Less than $40k\", \"val\": \"2. Some\", \"count\": 498}, {\"income_cat\": \"1. Less than $40k\", \"val\": \"3. Not much\", \"count\": 382}, {\"income_cat\": \"1. Less than $40k\", \"val\": \"4. Not at all\", \"count\": 417}]}}, {\"mode\": \"vega-lite\"});\n",
       "</script>"
      ],
      "text/plain": [
       "alt.HConcatChart(...)"
      ]
     },
     "execution_count": 6,
     "metadata": {},
     "output_type": "execute_result"
    }
   ],
   "source": [
    "A_5304.trust_I"
   ]
  },
  {
   "cell_type": "markdown",
   "metadata": {},
   "source": [
    "###### Political Party"
   ]
  },
  {
   "cell_type": "code",
   "execution_count": 7,
   "metadata": {},
   "outputs": [
    {
     "data": {
      "text/html": [
       "\n",
       "<div id=\"altair-viz-ed2583f9faf24e1ab6872a2728862eab\"></div>\n",
       "<script type=\"text/javascript\">\n",
       "  var VEGA_DEBUG = (typeof VEGA_DEBUG == \"undefined\") ? {} : VEGA_DEBUG;\n",
       "  (function(spec, embedOpt){\n",
       "    let outputDiv = document.currentScript.previousElementSibling;\n",
       "    if (outputDiv.id !== \"altair-viz-ed2583f9faf24e1ab6872a2728862eab\") {\n",
       "      outputDiv = document.getElementById(\"altair-viz-ed2583f9faf24e1ab6872a2728862eab\");\n",
       "    }\n",
       "    const paths = {\n",
       "      \"vega\": \"https://cdn.jsdelivr.net/npm//vega@5?noext\",\n",
       "      \"vega-lib\": \"https://cdn.jsdelivr.net/npm//vega-lib?noext\",\n",
       "      \"vega-lite\": \"https://cdn.jsdelivr.net/npm//vega-lite@4.17.0?noext\",\n",
       "      \"vega-embed\": \"https://cdn.jsdelivr.net/npm//vega-embed@6?noext\",\n",
       "    };\n",
       "\n",
       "    function maybeLoadScript(lib, version) {\n",
       "      var key = `${lib.replace(\"-\", \"\")}_version`;\n",
       "      return (VEGA_DEBUG[key] == version) ?\n",
       "        Promise.resolve(paths[lib]) :\n",
       "        new Promise(function(resolve, reject) {\n",
       "          var s = document.createElement('script');\n",
       "          document.getElementsByTagName(\"head\")[0].appendChild(s);\n",
       "          s.async = true;\n",
       "          s.onload = () => {\n",
       "            VEGA_DEBUG[key] = version;\n",
       "            return resolve(paths[lib]);\n",
       "          };\n",
       "          s.onerror = () => reject(`Error loading script: ${paths[lib]}`);\n",
       "          s.src = paths[lib];\n",
       "        });\n",
       "    }\n",
       "\n",
       "    function showError(err) {\n",
       "      outputDiv.innerHTML = `<div class=\"error\" style=\"color:red;\">${err}</div>`;\n",
       "      throw err;\n",
       "    }\n",
       "\n",
       "    function displayChart(vegaEmbed) {\n",
       "      vegaEmbed(outputDiv, spec, embedOpt)\n",
       "        .catch(err => showError(`Javascript Error: ${err.message}<br>This usually means there's a typo in your chart specification. See the javascript console for the full traceback.`));\n",
       "    }\n",
       "\n",
       "    if(typeof define === \"function\" && define.amd) {\n",
       "      requirejs.config({paths});\n",
       "      require([\"vega-embed\"], displayChart, err => showError(`Error loading script: ${err.message}`));\n",
       "    } else {\n",
       "      maybeLoadScript(\"vega\", \"5\")\n",
       "        .then(() => maybeLoadScript(\"vega-lite\", \"4.17.0\"))\n",
       "        .then(() => maybeLoadScript(\"vega-embed\", \"6\"))\n",
       "        .catch(showError)\n",
       "        .then(() => displayChart(vegaEmbed));\n",
       "    }\n",
       "  })({\"config\": {\"view\": {\"continuousWidth\": 400, \"continuousHeight\": 300}}, \"data\": {\"name\": \"data-e6b6890cb2f271dbf5d97f976b57d966\"}, \"mark\": {\"type\": \"bar\", \"size\": 50}, \"encoding\": {\"color\": {\"field\": \"val\", \"legend\": {\"labelFontSize\": 13, \"titleFontSize\": 14}, \"scale\": {\"scheme\": \"set2\"}, \"title\": \"Answer\", \"type\": \"nominal\"}, \"tooltip\": {\"field\": \"val\", \"type\": \"nominal\"}, \"x\": {\"axis\": {\"labelFontSize\": 16}, \"field\": \"count\", \"stack\": \"normalize\", \"title\": \"Proportion\", \"type\": \"quantitative\"}, \"y\": {\"axis\": {\"labelFontSize\": 16}, \"field\": \"income_cat\", \"title\": \"Income category\", \"type\": \"nominal\"}}, \"height\": 300, \"title\": \"Based on your perceptions and experiences of the Republican Party, which is the most accurate description of the party\\u2019s attitude toward people like you?\", \"width\": 500, \"$schema\": \"https://vega.github.io/schema/vega-lite/v4.17.0.json\", \"datasets\": {\"data-e6b6890cb2f271dbf5d97f976b57d966\": [{\"income_cat\": \"4. $125k or more\", \"val\": \"1. The Republican Party wants people like me to vote and works hard to earn our votes\", \"count\": 445}, {\"income_cat\": \"4. $125k or more\", \"val\": \"2. The Republican Party wants people like me to vote but does not work hard to earn our votes\", \"count\": 291}, {\"income_cat\": \"4. $125k or more\", \"val\": \"3. The Republican Party does not care whether or not people like me vote\", \"count\": 142}, {\"income_cat\": \"4. $125k or more\", \"val\": \"4. The Republican Party does not want people like me to vote, but does not work hard to keep us from voting\", \"count\": 95}, {\"income_cat\": \"4. $125k or more\", \"val\": \"5. The Republican Party does not want people like me to vote, and works hard to keep us from being able to vote\", \"count\": 392}, {\"income_cat\": \"3. $75-125k\", \"val\": \"5. The Republican Party does not want people like me to vote, and works hard to keep us from being able to vote\", \"count\": 463}, {\"income_cat\": \"3. $75-125k\", \"val\": \"4. The Republican Party does not want people like me to vote, but does not work hard to keep us from voting\", \"count\": 115}, {\"income_cat\": \"3. $75-125k\", \"val\": \"3. The Republican Party does not care whether or not people like me vote\", \"count\": 171}, {\"income_cat\": \"3. $75-125k\", \"val\": \"2. The Republican Party wants people like me to vote but does not work hard to earn our votes\", \"count\": 308}, {\"income_cat\": \"3. $75-125k\", \"val\": \"1. The Republican Party wants people like me to vote and works hard to earn our votes\", \"count\": 525}, {\"income_cat\": \"2. $40-75k\", \"val\": \"5. The Republican Party does not want people like me to vote, and works hard to keep us from being able to vote\", \"count\": 387}, {\"income_cat\": \"2. $40-75k\", \"val\": \"4. The Republican Party does not want people like me to vote, but does not work hard to keep us from voting\", \"count\": 78}, {\"income_cat\": \"2. $40-75k\", \"val\": \"3. The Republican Party does not care whether or not people like me vote\", \"count\": 193}, {\"income_cat\": \"2. $40-75k\", \"val\": \"2. The Republican Party wants people like me to vote but does not work hard to earn our votes\", \"count\": 226}, {\"income_cat\": \"2. $40-75k\", \"val\": \"1. The Republican Party wants people like me to vote and works hard to earn our votes\", \"count\": 456}, {\"income_cat\": \"1. Less than $40k\", \"val\": \"1. The Republican Party wants people like me to vote and works hard to earn our votes\", \"count\": 413}, {\"income_cat\": \"1. Less than $40k\", \"val\": \"2. The Republican Party wants people like me to vote but does not work hard to earn our votes\", \"count\": 250}, {\"income_cat\": \"1. Less than $40k\", \"val\": \"3. The Republican Party does not care whether or not people like me vote\", \"count\": 252}, {\"income_cat\": \"1. Less than $40k\", \"val\": \"4. The Republican Party does not want people like me to vote, but does not work hard to keep us from voting\", \"count\": 77}, {\"income_cat\": \"1. Less than $40k\", \"val\": \"5. The Republican Party does not want people like me to vote, and works hard to keep us from being able to vote\", \"count\": 353}]}}, {\"mode\": \"vega-lite\"});\n",
       "</script>"
      ],
      "text/plain": [
       "alt.Chart(...)"
      ]
     },
     "execution_count": 7,
     "metadata": {},
     "output_type": "execute_result"
    }
   ],
   "source": [
    "A_5304.republican"
   ]
  },
  {
   "cell_type": "code",
   "execution_count": 8,
   "metadata": {},
   "outputs": [
    {
     "data": {
      "text/html": [
       "\n",
       "<div id=\"altair-viz-7b8c10cc2cdc41709bff280d84cec590\"></div>\n",
       "<script type=\"text/javascript\">\n",
       "  var VEGA_DEBUG = (typeof VEGA_DEBUG == \"undefined\") ? {} : VEGA_DEBUG;\n",
       "  (function(spec, embedOpt){\n",
       "    let outputDiv = document.currentScript.previousElementSibling;\n",
       "    if (outputDiv.id !== \"altair-viz-7b8c10cc2cdc41709bff280d84cec590\") {\n",
       "      outputDiv = document.getElementById(\"altair-viz-7b8c10cc2cdc41709bff280d84cec590\");\n",
       "    }\n",
       "    const paths = {\n",
       "      \"vega\": \"https://cdn.jsdelivr.net/npm//vega@5?noext\",\n",
       "      \"vega-lib\": \"https://cdn.jsdelivr.net/npm//vega-lib?noext\",\n",
       "      \"vega-lite\": \"https://cdn.jsdelivr.net/npm//vega-lite@4.17.0?noext\",\n",
       "      \"vega-embed\": \"https://cdn.jsdelivr.net/npm//vega-embed@6?noext\",\n",
       "    };\n",
       "\n",
       "    function maybeLoadScript(lib, version) {\n",
       "      var key = `${lib.replace(\"-\", \"\")}_version`;\n",
       "      return (VEGA_DEBUG[key] == version) ?\n",
       "        Promise.resolve(paths[lib]) :\n",
       "        new Promise(function(resolve, reject) {\n",
       "          var s = document.createElement('script');\n",
       "          document.getElementsByTagName(\"head\")[0].appendChild(s);\n",
       "          s.async = true;\n",
       "          s.onload = () => {\n",
       "            VEGA_DEBUG[key] = version;\n",
       "            return resolve(paths[lib]);\n",
       "          };\n",
       "          s.onerror = () => reject(`Error loading script: ${paths[lib]}`);\n",
       "          s.src = paths[lib];\n",
       "        });\n",
       "    }\n",
       "\n",
       "    function showError(err) {\n",
       "      outputDiv.innerHTML = `<div class=\"error\" style=\"color:red;\">${err}</div>`;\n",
       "      throw err;\n",
       "    }\n",
       "\n",
       "    function displayChart(vegaEmbed) {\n",
       "      vegaEmbed(outputDiv, spec, embedOpt)\n",
       "        .catch(err => showError(`Javascript Error: ${err.message}<br>This usually means there's a typo in your chart specification. See the javascript console for the full traceback.`));\n",
       "    }\n",
       "\n",
       "    if(typeof define === \"function\" && define.amd) {\n",
       "      requirejs.config({paths});\n",
       "      require([\"vega-embed\"], displayChart, err => showError(`Error loading script: ${err.message}`));\n",
       "    } else {\n",
       "      maybeLoadScript(\"vega\", \"5\")\n",
       "        .then(() => maybeLoadScript(\"vega-lite\", \"4.17.0\"))\n",
       "        .then(() => maybeLoadScript(\"vega-embed\", \"6\"))\n",
       "        .catch(showError)\n",
       "        .then(() => displayChart(vegaEmbed));\n",
       "    }\n",
       "  })({\"config\": {\"view\": {\"continuousWidth\": 400, \"continuousHeight\": 300}}, \"data\": {\"name\": \"data-de0d0134179ccaa31e5392db78a0675c\"}, \"mark\": {\"type\": \"bar\", \"size\": 50}, \"encoding\": {\"color\": {\"field\": \"val\", \"legend\": {\"labelFontSize\": 13, \"titleFontSize\": 14}, \"scale\": {\"scheme\": \"set2\"}, \"title\": \"Answer\", \"type\": \"nominal\"}, \"tooltip\": {\"field\": \"val\", \"type\": \"nominal\"}, \"x\": {\"axis\": {\"labelFontSize\": 16}, \"field\": \"count\", \"stack\": \"normalize\", \"title\": \"Proportion\", \"type\": \"quantitative\"}, \"y\": {\"axis\": {\"labelFontSize\": 16}, \"field\": \"income_cat\", \"title\": \"Income category\", \"type\": \"nominal\"}}, \"height\": 300, \"title\": \"Based on your perceptions and experiences of the Democratic Party, which is the most accurate description of the party\\u2019s attitude toward people like you?\", \"width\": 500, \"$schema\": \"https://vega.github.io/schema/vega-lite/v4.17.0.json\", \"datasets\": {\"data-de0d0134179ccaa31e5392db78a0675c\": [{\"income_cat\": \"4. $125k or more\", \"val\": \"1. The Democratic Party wants people like me to vote and works hard to earn our votes\", \"count\": 544}, {\"income_cat\": \"4. $125k or more\", \"val\": \"2. The Democratic Party wants people like me to vote but does not work hard to earn our votes\", \"count\": 365}, {\"income_cat\": \"4. $125k or more\", \"val\": \"3. The Democratic Party does not care whether or not people like me vote\", \"count\": 132}, {\"income_cat\": \"4. $125k or more\", \"val\": \"4. The Democratic Party does not want people like me to vote, but does not work hard to keep us from voting\", \"count\": 144}, {\"income_cat\": \"4. $125k or more\", \"val\": \"5. The Democratic Party does not want people like me to vote, and works hard to keep us from being able to vote\", \"count\": 183}, {\"income_cat\": \"3. $75-125k\", \"val\": \"5. The Democratic Party does not want people like me to vote, and works hard to keep us from being able to vote\", \"count\": 224}, {\"income_cat\": \"3. $75-125k\", \"val\": \"4. The Democratic Party does not want people like me to vote, but does not work hard to keep us from voting\", \"count\": 148}, {\"income_cat\": \"3. $75-125k\", \"val\": \"3. The Democratic Party does not care whether or not people like me vote\", \"count\": 161}, {\"income_cat\": \"3. $75-125k\", \"val\": \"2. The Democratic Party wants people like me to vote but does not work hard to earn our votes\", \"count\": 445}, {\"income_cat\": \"3. $75-125k\", \"val\": \"1. The Democratic Party wants people like me to vote and works hard to earn our votes\", \"count\": 604}, {\"income_cat\": \"2. $40-75k\", \"val\": \"5. The Democratic Party does not want people like me to vote, and works hard to keep us from being able to vote\", \"count\": 219}, {\"income_cat\": \"2. $40-75k\", \"val\": \"4. The Democratic Party does not want people like me to vote, but does not work hard to keep us from voting\", \"count\": 116}, {\"income_cat\": \"2. $40-75k\", \"val\": \"3. The Democratic Party does not care whether or not people like me vote\", \"count\": 163}, {\"income_cat\": \"2. $40-75k\", \"val\": \"2. The Democratic Party wants people like me to vote but does not work hard to earn our votes\", \"count\": 322}, {\"income_cat\": \"2. $40-75k\", \"val\": \"1. The Democratic Party wants people like me to vote and works hard to earn our votes\", \"count\": 524}, {\"income_cat\": \"1. Less than $40k\", \"val\": \"1. The Democratic Party wants people like me to vote and works hard to earn our votes\", \"count\": 564}, {\"income_cat\": \"1. Less than $40k\", \"val\": \"2. The Democratic Party wants people like me to vote but does not work hard to earn our votes\", \"count\": 320}, {\"income_cat\": \"1. Less than $40k\", \"val\": \"3. The Democratic Party does not care whether or not people like me vote\", \"count\": 221}, {\"income_cat\": \"1. Less than $40k\", \"val\": \"4. The Democratic Party does not want people like me to vote, but does not work hard to keep us from voting\", \"count\": 65}, {\"income_cat\": \"1. Less than $40k\", \"val\": \"5. The Democratic Party does not want people like me to vote, and works hard to keep us from being able to vote\", \"count\": 180}]}}, {\"mode\": \"vega-lite\"});\n",
       "</script>"
      ],
      "text/plain": [
       "alt.Chart(...)"
      ]
     },
     "execution_count": 8,
     "metadata": {},
     "output_type": "execute_result"
    }
   ],
   "source": [
    "A_5304.democratic"
   ]
  },
  {
   "cell_type": "markdown",
   "metadata": {},
   "source": [
    "###### Election"
   ]
  },
  {
   "cell_type": "code",
   "execution_count": 9,
   "metadata": {},
   "outputs": [
    {
     "data": {
      "text/html": [
       "\n",
       "<div id=\"altair-viz-6f51b05b2dda4d899a12d40324613bd7\"></div>\n",
       "<script type=\"text/javascript\">\n",
       "  var VEGA_DEBUG = (typeof VEGA_DEBUG == \"undefined\") ? {} : VEGA_DEBUG;\n",
       "  (function(spec, embedOpt){\n",
       "    let outputDiv = document.currentScript.previousElementSibling;\n",
       "    if (outputDiv.id !== \"altair-viz-6f51b05b2dda4d899a12d40324613bd7\") {\n",
       "      outputDiv = document.getElementById(\"altair-viz-6f51b05b2dda4d899a12d40324613bd7\");\n",
       "    }\n",
       "    const paths = {\n",
       "      \"vega\": \"https://cdn.jsdelivr.net/npm//vega@5?noext\",\n",
       "      \"vega-lib\": \"https://cdn.jsdelivr.net/npm//vega-lib?noext\",\n",
       "      \"vega-lite\": \"https://cdn.jsdelivr.net/npm//vega-lite@4.17.0?noext\",\n",
       "      \"vega-embed\": \"https://cdn.jsdelivr.net/npm//vega-embed@6?noext\",\n",
       "    };\n",
       "\n",
       "    function maybeLoadScript(lib, version) {\n",
       "      var key = `${lib.replace(\"-\", \"\")}_version`;\n",
       "      return (VEGA_DEBUG[key] == version) ?\n",
       "        Promise.resolve(paths[lib]) :\n",
       "        new Promise(function(resolve, reject) {\n",
       "          var s = document.createElement('script');\n",
       "          document.getElementsByTagName(\"head\")[0].appendChild(s);\n",
       "          s.async = true;\n",
       "          s.onload = () => {\n",
       "            VEGA_DEBUG[key] = version;\n",
       "            return resolve(paths[lib]);\n",
       "          };\n",
       "          s.onerror = () => reject(`Error loading script: ${paths[lib]}`);\n",
       "          s.src = paths[lib];\n",
       "        });\n",
       "    }\n",
       "\n",
       "    function showError(err) {\n",
       "      outputDiv.innerHTML = `<div class=\"error\" style=\"color:red;\">${err}</div>`;\n",
       "      throw err;\n",
       "    }\n",
       "\n",
       "    function displayChart(vegaEmbed) {\n",
       "      vegaEmbed(outputDiv, spec, embedOpt)\n",
       "        .catch(err => showError(`Javascript Error: ${err.message}<br>This usually means there's a typo in your chart specification. See the javascript console for the full traceback.`));\n",
       "    }\n",
       "\n",
       "    if(typeof define === \"function\" && define.amd) {\n",
       "      requirejs.config({paths});\n",
       "      require([\"vega-embed\"], displayChart, err => showError(`Error loading script: ${err.message}`));\n",
       "    } else {\n",
       "      maybeLoadScript(\"vega\", \"5\")\n",
       "        .then(() => maybeLoadScript(\"vega-lite\", \"4.17.0\"))\n",
       "        .then(() => maybeLoadScript(\"vega-embed\", \"6\"))\n",
       "        .catch(showError)\n",
       "        .then(() => displayChart(vegaEmbed));\n",
       "    }\n",
       "  })({\"config\": {\"view\": {\"continuousWidth\": 400, \"continuousHeight\": 300}}, \"data\": {\"name\": \"data-b04e51b6075cf0a222554b8bb33c3310\"}, \"mark\": {\"type\": \"bar\", \"size\": 50}, \"encoding\": {\"color\": {\"field\": \"val\", \"legend\": {\"labelFontSize\": 13, \"titleFontSize\": 14}, \"scale\": {\"scheme\": \"set2\"}, \"title\": \"Answer\", \"type\": \"nominal\"}, \"tooltip\": {\"field\": \"val\", \"type\": \"nominal\"}, \"x\": {\"axis\": {\"labelFontSize\": 16}, \"field\": \"count\", \"stack\": \"normalize\", \"title\": \"Proportion\", \"type\": \"quantitative\"}, \"y\": {\"axis\": {\"labelFontSize\": 16}, \"field\": \"income_cat\", \"title\": \"Income category\", \"type\": \"nominal\"}}, \"height\": 300, \"title\": \"As far as making progress on the important issues facing the country, does it really matter who wins the 2020 presidential election?\", \"width\": 500, \"$schema\": \"https://vega.github.io/schema/vega-lite/v4.17.0.json\", \"datasets\": {\"data-b04e51b6075cf0a222554b8bb33c3310\": [{\"income_cat\": \"4. $125k or more\", \"val\": \"1. Who wins the election really matters\", \"count\": 1210}, {\"income_cat\": \"4. $125k or more\", \"val\": \"2. Things will be pretty much the same\", \"count\": 181}, {\"income_cat\": \"3. $75-125k\", \"val\": \"1. Who wins the election really matters\", \"count\": 1374}, {\"income_cat\": \"3. $75-125k\", \"val\": \"2. Things will be pretty much the same\", \"count\": 247}, {\"income_cat\": \"2. $40-75k\", \"val\": \"1. Who wins the election really matters\", \"count\": 1135}, {\"income_cat\": \"2. $40-75k\", \"val\": \"2. Things will be pretty much the same\", \"count\": 250}, {\"income_cat\": \"1. Less than $40k\", \"val\": \"1. Who wins the election really matters\", \"count\": 1091}, {\"income_cat\": \"1. Less than $40k\", \"val\": \"2. Things will be pretty much the same\", \"count\": 317}]}}, {\"mode\": \"vega-lite\"});\n",
       "</script>"
      ],
      "text/plain": [
       "alt.Chart(...)"
      ]
     },
     "execution_count": 9,
     "metadata": {},
     "output_type": "execute_result"
    }
   ],
   "source": [
    "A_5304.progress"
   ]
  },
  {
   "cell_type": "markdown",
   "metadata": {},
   "source": [
    "###### Voting"
   ]
  },
  {
   "cell_type": "code",
   "execution_count": 10,
   "metadata": {},
   "outputs": [
    {
     "data": {
      "text/html": [
       "\n",
       "<div id=\"altair-viz-7e4ee0cbaed54531b18148a784dc82f0\"></div>\n",
       "<script type=\"text/javascript\">\n",
       "  var VEGA_DEBUG = (typeof VEGA_DEBUG == \"undefined\") ? {} : VEGA_DEBUG;\n",
       "  (function(spec, embedOpt){\n",
       "    let outputDiv = document.currentScript.previousElementSibling;\n",
       "    if (outputDiv.id !== \"altair-viz-7e4ee0cbaed54531b18148a784dc82f0\") {\n",
       "      outputDiv = document.getElementById(\"altair-viz-7e4ee0cbaed54531b18148a784dc82f0\");\n",
       "    }\n",
       "    const paths = {\n",
       "      \"vega\": \"https://cdn.jsdelivr.net/npm//vega@5?noext\",\n",
       "      \"vega-lib\": \"https://cdn.jsdelivr.net/npm//vega-lib?noext\",\n",
       "      \"vega-lite\": \"https://cdn.jsdelivr.net/npm//vega-lite@4.17.0?noext\",\n",
       "      \"vega-embed\": \"https://cdn.jsdelivr.net/npm//vega-embed@6?noext\",\n",
       "    };\n",
       "\n",
       "    function maybeLoadScript(lib, version) {\n",
       "      var key = `${lib.replace(\"-\", \"\")}_version`;\n",
       "      return (VEGA_DEBUG[key] == version) ?\n",
       "        Promise.resolve(paths[lib]) :\n",
       "        new Promise(function(resolve, reject) {\n",
       "          var s = document.createElement('script');\n",
       "          document.getElementsByTagName(\"head\")[0].appendChild(s);\n",
       "          s.async = true;\n",
       "          s.onload = () => {\n",
       "            VEGA_DEBUG[key] = version;\n",
       "            return resolve(paths[lib]);\n",
       "          };\n",
       "          s.onerror = () => reject(`Error loading script: ${paths[lib]}`);\n",
       "          s.src = paths[lib];\n",
       "        });\n",
       "    }\n",
       "\n",
       "    function showError(err) {\n",
       "      outputDiv.innerHTML = `<div class=\"error\" style=\"color:red;\">${err}</div>`;\n",
       "      throw err;\n",
       "    }\n",
       "\n",
       "    function displayChart(vegaEmbed) {\n",
       "      vegaEmbed(outputDiv, spec, embedOpt)\n",
       "        .catch(err => showError(`Javascript Error: ${err.message}<br>This usually means there's a typo in your chart specification. See the javascript console for the full traceback.`));\n",
       "    }\n",
       "\n",
       "    if(typeof define === \"function\" && define.amd) {\n",
       "      requirejs.config({paths});\n",
       "      require([\"vega-embed\"], displayChart, err => showError(`Error loading script: ${err.message}`));\n",
       "    } else {\n",
       "      maybeLoadScript(\"vega\", \"5\")\n",
       "        .then(() => maybeLoadScript(\"vega-lite\", \"4.17.0\"))\n",
       "        .then(() => maybeLoadScript(\"vega-embed\", \"6\"))\n",
       "        .catch(showError)\n",
       "        .then(() => displayChart(vegaEmbed));\n",
       "    }\n",
       "  })({\"config\": {\"view\": {\"continuousWidth\": 400, \"continuousHeight\": 300}}, \"data\": {\"name\": \"data-fb07abbf09a63b914886a242ac8522ef\"}, \"mark\": {\"type\": \"bar\", \"size\": 50}, \"encoding\": {\"color\": {\"field\": \"val\", \"legend\": {\"labelFontSize\": 13, \"titleFontSize\": 14}, \"scale\": {\"scheme\": \"set2\"}, \"title\": \"Answer\", \"type\": \"nominal\"}, \"tooltip\": {\"field\": \"val\", \"type\": \"nominal\"}, \"x\": {\"axis\": {\"labelFontSize\": 16}, \"field\": \"count\", \"stack\": \"normalize\", \"title\": \"Proportion\", \"type\": \"quantitative\"}, \"y\": {\"axis\": {\"labelFontSize\": 16}, \"field\": \"income_cat\", \"title\": \"Income category\", \"type\": \"nominal\"}}, \"height\": 300, \"title\": \"How easy or difficult do you think it is to vote in national elections?\", \"width\": 500, \"$schema\": \"https://vega.github.io/schema/vega-lite/v4.17.0.json\", \"datasets\": {\"data-fb07abbf09a63b914886a242ac8522ef\": [{\"income_cat\": \"4. $125k or more\", \"val\": \"1. Very easy\", \"count\": 812}, {\"income_cat\": \"4. $125k or more\", \"val\": \"2. Somewhat easy\", \"count\": 420}, {\"income_cat\": \"4. $125k or more\", \"val\": \"3. Somewhat difficult\", \"count\": 131}, {\"income_cat\": \"4. $125k or more\", \"val\": \"4. Very difficult\", \"count\": 28}, {\"income_cat\": \"3. $75-125k\", \"val\": \"1. Very easy\", \"count\": 903}, {\"income_cat\": \"3. $75-125k\", \"val\": \"2. Somewhat easy\", \"count\": 487}, {\"income_cat\": \"3. $75-125k\", \"val\": \"3. Somewhat difficult\", \"count\": 185}, {\"income_cat\": \"3. $75-125k\", \"val\": \"4. Very difficult\", \"count\": 40}, {\"income_cat\": \"2. $40-75k\", \"val\": \"1. Very easy\", \"count\": 744}, {\"income_cat\": \"2. $40-75k\", \"val\": \"2. Somewhat easy\", \"count\": 423}, {\"income_cat\": \"2. $40-75k\", \"val\": \"3. Somewhat difficult\", \"count\": 180}, {\"income_cat\": \"2. $40-75k\", \"val\": \"4. Very difficult\", \"count\": 31}, {\"income_cat\": \"1. Less than $40k\", \"val\": \"1. Very easy\", \"count\": 633}, {\"income_cat\": \"1. Less than $40k\", \"val\": \"2. Somewhat easy\", \"count\": 476}, {\"income_cat\": \"1. Less than $40k\", \"val\": \"3. Somewhat difficult\", \"count\": 223}, {\"income_cat\": \"1. Less than $40k\", \"val\": \"4. Very difficult\", \"count\": 64}]}}, {\"mode\": \"vega-lite\"});\n",
       "</script>"
      ],
      "text/plain": [
       "alt.Chart(...)"
      ]
     },
     "execution_count": 10,
     "metadata": {},
     "output_type": "execute_result"
    }
   ],
   "source": [
    "A_5304.vote"
   ]
  },
  {
   "cell_type": "code",
   "execution_count": 11,
   "metadata": {},
   "outputs": [
    {
     "data": {
      "text/html": [
       "\n",
       "<div id=\"altair-viz-26a4a5d152f94bf78c4fb4ac59726bba\"></div>\n",
       "<script type=\"text/javascript\">\n",
       "  var VEGA_DEBUG = (typeof VEGA_DEBUG == \"undefined\") ? {} : VEGA_DEBUG;\n",
       "  (function(spec, embedOpt){\n",
       "    let outputDiv = document.currentScript.previousElementSibling;\n",
       "    if (outputDiv.id !== \"altair-viz-26a4a5d152f94bf78c4fb4ac59726bba\") {\n",
       "      outputDiv = document.getElementById(\"altair-viz-26a4a5d152f94bf78c4fb4ac59726bba\");\n",
       "    }\n",
       "    const paths = {\n",
       "      \"vega\": \"https://cdn.jsdelivr.net/npm//vega@5?noext\",\n",
       "      \"vega-lib\": \"https://cdn.jsdelivr.net/npm//vega-lib?noext\",\n",
       "      \"vega-lite\": \"https://cdn.jsdelivr.net/npm//vega-lite@4.17.0?noext\",\n",
       "      \"vega-embed\": \"https://cdn.jsdelivr.net/npm//vega-embed@6?noext\",\n",
       "    };\n",
       "\n",
       "    function maybeLoadScript(lib, version) {\n",
       "      var key = `${lib.replace(\"-\", \"\")}_version`;\n",
       "      return (VEGA_DEBUG[key] == version) ?\n",
       "        Promise.resolve(paths[lib]) :\n",
       "        new Promise(function(resolve, reject) {\n",
       "          var s = document.createElement('script');\n",
       "          document.getElementsByTagName(\"head\")[0].appendChild(s);\n",
       "          s.async = true;\n",
       "          s.onload = () => {\n",
       "            VEGA_DEBUG[key] = version;\n",
       "            return resolve(paths[lib]);\n",
       "          };\n",
       "          s.onerror = () => reject(`Error loading script: ${paths[lib]}`);\n",
       "          s.src = paths[lib];\n",
       "        });\n",
       "    }\n",
       "\n",
       "    function showError(err) {\n",
       "      outputDiv.innerHTML = `<div class=\"error\" style=\"color:red;\">${err}</div>`;\n",
       "      throw err;\n",
       "    }\n",
       "\n",
       "    function displayChart(vegaEmbed) {\n",
       "      vegaEmbed(outputDiv, spec, embedOpt)\n",
       "        .catch(err => showError(`Javascript Error: ${err.message}<br>This usually means there's a typo in your chart specification. See the javascript console for the full traceback.`));\n",
       "    }\n",
       "\n",
       "    if(typeof define === \"function\" && define.amd) {\n",
       "      requirejs.config({paths});\n",
       "      require([\"vega-embed\"], displayChart, err => showError(`Error loading script: ${err.message}`));\n",
       "    } else {\n",
       "      maybeLoadScript(\"vega\", \"5\")\n",
       "        .then(() => maybeLoadScript(\"vega-lite\", \"4.17.0\"))\n",
       "        .then(() => maybeLoadScript(\"vega-embed\", \"6\"))\n",
       "        .catch(showError)\n",
       "        .then(() => displayChart(vegaEmbed));\n",
       "    }\n",
       "  })({\"config\": {\"view\": {\"continuousWidth\": 400, \"continuousHeight\": 300}}, \"data\": {\"name\": \"data-667cb96ca5f60ac773851467769a0ac7\"}, \"mark\": {\"type\": \"bar\", \"size\": 50}, \"encoding\": {\"color\": {\"field\": \"val\", \"legend\": {\"labelFontSize\": 13, \"titleFontSize\": 14}, \"scale\": {\"scheme\": \"set2\"}, \"title\": \"Answer\", \"type\": \"nominal\"}, \"tooltip\": {\"field\": \"val\", \"type\": \"nominal\"}, \"x\": {\"axis\": {\"labelFontSize\": 16}, \"field\": \"count\", \"stack\": \"normalize\", \"title\": \"Proportion\", \"type\": \"quantitative\"}, \"y\": {\"axis\": {\"labelFontSize\": 16}, \"field\": \"income_cat\", \"title\": \"Income category\", \"type\": \"nominal\"}}, \"height\": 300, \"title\": \"Are you currently registered to vote?\", \"width\": 500, \"$schema\": \"https://vega.github.io/schema/vega-lite/v4.17.0.json\", \"datasets\": {\"data-667cb96ca5f60ac773851467769a0ac7\": [{\"income_cat\": \"4. $125k or more\", \"val\": \"1. Yes\", \"count\": 1350}, {\"income_cat\": \"4. $125k or more\", \"val\": \"2. No\", \"count\": 40}, {\"income_cat\": \"3. $75-125k\", \"val\": \"1. Yes\", \"count\": 1534}, {\"income_cat\": \"3. $75-125k\", \"val\": \"2. No\", \"count\": 90}, {\"income_cat\": \"2. $40-75k\", \"val\": \"1. Yes\", \"count\": 1267}, {\"income_cat\": \"2. $40-75k\", \"val\": \"2. No\", \"count\": 123}, {\"income_cat\": \"1. Less than $40k\", \"val\": \"1. Yes\", \"count\": 1179}, {\"income_cat\": \"1. Less than $40k\", \"val\": \"2. No\", \"count\": 233}]}}, {\"mode\": \"vega-lite\"});\n",
       "</script>"
      ],
      "text/plain": [
       "alt.Chart(...)"
      ]
     },
     "execution_count": 11,
     "metadata": {},
     "output_type": "execute_result"
    }
   ],
   "source": [
    "A_5304.vote_I"
   ]
  },
  {
   "cell_type": "code",
   "execution_count": 13,
   "metadata": {},
   "outputs": [
    {
     "data": {
      "text/html": [
       "\n",
       "<div id=\"altair-viz-e65b70be22e34267abfe9dc57a307047\"></div>\n",
       "<script type=\"text/javascript\">\n",
       "  var VEGA_DEBUG = (typeof VEGA_DEBUG == \"undefined\") ? {} : VEGA_DEBUG;\n",
       "  (function(spec, embedOpt){\n",
       "    let outputDiv = document.currentScript.previousElementSibling;\n",
       "    if (outputDiv.id !== \"altair-viz-e65b70be22e34267abfe9dc57a307047\") {\n",
       "      outputDiv = document.getElementById(\"altair-viz-e65b70be22e34267abfe9dc57a307047\");\n",
       "    }\n",
       "    const paths = {\n",
       "      \"vega\": \"https://cdn.jsdelivr.net/npm//vega@5?noext\",\n",
       "      \"vega-lib\": \"https://cdn.jsdelivr.net/npm//vega-lib?noext\",\n",
       "      \"vega-lite\": \"https://cdn.jsdelivr.net/npm//vega-lite@4.17.0?noext\",\n",
       "      \"vega-embed\": \"https://cdn.jsdelivr.net/npm//vega-embed@6?noext\",\n",
       "    };\n",
       "\n",
       "    function maybeLoadScript(lib, version) {\n",
       "      var key = `${lib.replace(\"-\", \"\")}_version`;\n",
       "      return (VEGA_DEBUG[key] == version) ?\n",
       "        Promise.resolve(paths[lib]) :\n",
       "        new Promise(function(resolve, reject) {\n",
       "          var s = document.createElement('script');\n",
       "          document.getElementsByTagName(\"head\")[0].appendChild(s);\n",
       "          s.async = true;\n",
       "          s.onload = () => {\n",
       "            VEGA_DEBUG[key] = version;\n",
       "            return resolve(paths[lib]);\n",
       "          };\n",
       "          s.onerror = () => reject(`Error loading script: ${paths[lib]}`);\n",
       "          s.src = paths[lib];\n",
       "        });\n",
       "    }\n",
       "\n",
       "    function showError(err) {\n",
       "      outputDiv.innerHTML = `<div class=\"error\" style=\"color:red;\">${err}</div>`;\n",
       "      throw err;\n",
       "    }\n",
       "\n",
       "    function displayChart(vegaEmbed) {\n",
       "      vegaEmbed(outputDiv, spec, embedOpt)\n",
       "        .catch(err => showError(`Javascript Error: ${err.message}<br>This usually means there's a typo in your chart specification. See the javascript console for the full traceback.`));\n",
       "    }\n",
       "\n",
       "    if(typeof define === \"function\" && define.amd) {\n",
       "      requirejs.config({paths});\n",
       "      require([\"vega-embed\"], displayChart, err => showError(`Error loading script: ${err.message}`));\n",
       "    } else {\n",
       "      maybeLoadScript(\"vega\", \"5\")\n",
       "        .then(() => maybeLoadScript(\"vega-lite\", \"4.17.0\"))\n",
       "        .then(() => maybeLoadScript(\"vega-embed\", \"6\"))\n",
       "        .catch(showError)\n",
       "        .then(() => displayChart(vegaEmbed));\n",
       "    }\n",
       "  })({\"config\": {\"view\": {\"continuousWidth\": 400, \"continuousHeight\": 300}}, \"data\": {\"name\": \"data-e6654408055e7f5f42ed609ed3194db3\"}, \"mark\": {\"type\": \"bar\", \"size\": 50}, \"encoding\": {\"color\": {\"field\": \"val\", \"legend\": {\"labelFontSize\": 13, \"titleFontSize\": 14}, \"scale\": {\"scheme\": \"set2\"}, \"title\": \"Answer\", \"type\": \"nominal\"}, \"tooltip\": {\"field\": \"val\", \"type\": \"nominal\"}, \"x\": {\"axis\": {\"labelFontSize\": 16}, \"field\": \"count\", \"stack\": \"normalize\", \"title\": \"Proportion\", \"type\": \"quantitative\"}, \"y\": {\"axis\": {\"labelFontSize\": 16}, \"field\": \"income_cat\", \"title\": \"Income category\", \"type\": \"nominal\"}}, \"height\": 300, \"title\": \"In general, which of the following categories do you think best describes you?\", \"width\": 500, \"$schema\": \"https://vega.github.io/schema/vega-lite/v4.17.0.json\", \"datasets\": {\"data-e6654408055e7f5f42ed609ed3194db3\": [{\"income_cat\": \"4. $125k or more\", \"val\": \"1. I always, or almost always, vote in national elections\", \"count\": 1212}, {\"income_cat\": \"4. $125k or more\", \"val\": \"2. I sometimes vote in national elections\", \"count\": 90}, {\"income_cat\": \"4. $125k or more\", \"val\": \"3. I rarely vote in national elections\", \"count\": 46}, {\"income_cat\": \"4. $125k or more\", \"val\": \"4. I don\\u2019t vote\", \"count\": 44}, {\"income_cat\": \"3. $75-125k\", \"val\": \"1. I always, or almost always, vote in national elections\", \"count\": 1345}, {\"income_cat\": \"3. $75-125k\", \"val\": \"2. I sometimes vote in national elections\", \"count\": 114}, {\"income_cat\": \"3. $75-125k\", \"val\": \"3. I rarely vote in national elections\", \"count\": 63}, {\"income_cat\": \"3. $75-125k\", \"val\": \"4. I don\\u2019t vote\", \"count\": 100}, {\"income_cat\": \"2. $40-75k\", \"val\": \"1. I always, or almost always, vote in national elections\", \"count\": 1057}, {\"income_cat\": \"2. $40-75k\", \"val\": \"2. I sometimes vote in national elections\", \"count\": 123}, {\"income_cat\": \"2. $40-75k\", \"val\": \"3. I rarely vote in national elections\", \"count\": 82}, {\"income_cat\": \"2. $40-75k\", \"val\": \"4. I don\\u2019t vote\", \"count\": 127}, {\"income_cat\": \"1. Less than $40k\", \"val\": \"1. I always, or almost always, vote in national elections\", \"count\": 855}, {\"income_cat\": \"1. Less than $40k\", \"val\": \"2. I sometimes vote in national elections\", \"count\": 165}, {\"income_cat\": \"1. Less than $40k\", \"val\": \"3. I rarely vote in national elections\", \"count\": 150}, {\"income_cat\": \"1. Less than $40k\", \"val\": \"4. I don\\u2019t vote\", \"count\": 238}]}}, {\"mode\": \"vega-lite\"});\n",
       "</script>"
      ],
      "text/plain": [
       "alt.Chart(...)"
      ]
     },
     "execution_count": 13,
     "metadata": {},
     "output_type": "execute_result"
    }
   ],
   "source": [
    "A_5304.vote_III"
   ]
  },
  {
   "cell_type": "code",
   "execution_count": 12,
   "metadata": {},
   "outputs": [
    {
     "data": {
      "text/html": [
       "\n",
       "<div id=\"altair-viz-51562d768c2549bdbd7bae941720a821\"></div>\n",
       "<script type=\"text/javascript\">\n",
       "  var VEGA_DEBUG = (typeof VEGA_DEBUG == \"undefined\") ? {} : VEGA_DEBUG;\n",
       "  (function(spec, embedOpt){\n",
       "    let outputDiv = document.currentScript.previousElementSibling;\n",
       "    if (outputDiv.id !== \"altair-viz-51562d768c2549bdbd7bae941720a821\") {\n",
       "      outputDiv = document.getElementById(\"altair-viz-51562d768c2549bdbd7bae941720a821\");\n",
       "    }\n",
       "    const paths = {\n",
       "      \"vega\": \"https://cdn.jsdelivr.net/npm//vega@5?noext\",\n",
       "      \"vega-lib\": \"https://cdn.jsdelivr.net/npm//vega-lib?noext\",\n",
       "      \"vega-lite\": \"https://cdn.jsdelivr.net/npm//vega-lite@4.17.0?noext\",\n",
       "      \"vega-embed\": \"https://cdn.jsdelivr.net/npm//vega-embed@6?noext\",\n",
       "    };\n",
       "\n",
       "    function maybeLoadScript(lib, version) {\n",
       "      var key = `${lib.replace(\"-\", \"\")}_version`;\n",
       "      return (VEGA_DEBUG[key] == version) ?\n",
       "        Promise.resolve(paths[lib]) :\n",
       "        new Promise(function(resolve, reject) {\n",
       "          var s = document.createElement('script');\n",
       "          document.getElementsByTagName(\"head\")[0].appendChild(s);\n",
       "          s.async = true;\n",
       "          s.onload = () => {\n",
       "            VEGA_DEBUG[key] = version;\n",
       "            return resolve(paths[lib]);\n",
       "          };\n",
       "          s.onerror = () => reject(`Error loading script: ${paths[lib]}`);\n",
       "          s.src = paths[lib];\n",
       "        });\n",
       "    }\n",
       "\n",
       "    function showError(err) {\n",
       "      outputDiv.innerHTML = `<div class=\"error\" style=\"color:red;\">${err}</div>`;\n",
       "      throw err;\n",
       "    }\n",
       "\n",
       "    function displayChart(vegaEmbed) {\n",
       "      vegaEmbed(outputDiv, spec, embedOpt)\n",
       "        .catch(err => showError(`Javascript Error: ${err.message}<br>This usually means there's a typo in your chart specification. See the javascript console for the full traceback.`));\n",
       "    }\n",
       "\n",
       "    if(typeof define === \"function\" && define.amd) {\n",
       "      requirejs.config({paths});\n",
       "      require([\"vega-embed\"], displayChart, err => showError(`Error loading script: ${err.message}`));\n",
       "    } else {\n",
       "      maybeLoadScript(\"vega\", \"5\")\n",
       "        .then(() => maybeLoadScript(\"vega-lite\", \"4.17.0\"))\n",
       "        .then(() => maybeLoadScript(\"vega-embed\", \"6\"))\n",
       "        .catch(showError)\n",
       "        .then(() => displayChart(vegaEmbed));\n",
       "    }\n",
       "  })({\"config\": {\"view\": {\"continuousWidth\": 400, \"continuousHeight\": 300}}, \"data\": {\"name\": \"data-0e592b97b69938f6ef3ce60a6ada9b78\"}, \"mark\": {\"type\": \"bar\", \"size\": 50}, \"encoding\": {\"color\": {\"field\": \"val\", \"legend\": {\"labelFontSize\": 13, \"titleFontSize\": 14}, \"scale\": {\"scheme\": \"set2\"}, \"title\": \"Answer\", \"type\": \"nominal\"}, \"tooltip\": {\"field\": \"val\", \"type\": \"nominal\"}, \"x\": {\"axis\": {\"labelFontSize\": 16}, \"field\": \"count\", \"stack\": \"normalize\", \"title\": \"Proportion\", \"type\": \"quantitative\"}, \"y\": {\"axis\": {\"labelFontSize\": 16}, \"field\": \"income_cat\", \"title\": \"Income category\", \"type\": \"nominal\"}}, \"height\": 300, \"title\": \"Do you plan to vote in the November 2020 election?\", \"width\": 500, \"$schema\": \"https://vega.github.io/schema/vega-lite/v4.17.0.json\", \"datasets\": {\"data-0e592b97b69938f6ef3ce60a6ada9b78\": [{\"income_cat\": \"4. $125k or more\", \"val\": \"1. Yes\", \"count\": 1287}, {\"income_cat\": \"4. $125k or more\", \"val\": \"2. No\", \"count\": 63}, {\"income_cat\": \"4. $125k or more\", \"val\": \"3. Unsure/Undecided\", \"count\": 41}, {\"income_cat\": \"3. $75-125k\", \"val\": \"1. Yes\", \"count\": 1441}, {\"income_cat\": \"3. $75-125k\", \"val\": \"2. No\", \"count\": 102}, {\"income_cat\": \"3. $75-125k\", \"val\": \"3. Unsure/Undecided\", \"count\": 78}, {\"income_cat\": \"2. $40-75k\", \"val\": \"1. Yes\", \"count\": 1178}, {\"income_cat\": \"2. $40-75k\", \"val\": \"2. No\", \"count\": 117}, {\"income_cat\": \"2. $40-75k\", \"val\": \"3. Unsure/Undecided\", \"count\": 95}, {\"income_cat\": \"1. Less than $40k\", \"val\": \"1. Yes\", \"count\": 1039}, {\"income_cat\": \"1. Less than $40k\", \"val\": \"2. No\", \"count\": 182}, {\"income_cat\": \"1. Less than $40k\", \"val\": \"3. Unsure/Undecided\", \"count\": 190}]}}, {\"mode\": \"vega-lite\"});\n",
       "</script>"
      ],
      "text/plain": [
       "alt.Chart(...)"
      ]
     },
     "execution_count": 12,
     "metadata": {},
     "output_type": "execute_result"
    }
   ],
   "source": [
    "A_5304.vote_II"
   ]
  }
 ],
 "metadata": {
  "kernelspec": {
   "display_name": "Python 3",
   "language": "python",
   "name": "python3"
  },
  "language_info": {
   "codemirror_mode": {
    "name": "ipython",
    "version": 3
   },
   "file_extension": ".py",
   "mimetype": "text/x-python",
   "name": "python",
   "nbconvert_exporter": "python",
   "pygments_lexer": "ipython3",
   "version": "3.7.3"
  }
 },
 "nbformat": 4,
 "nbformat_minor": 2
}
