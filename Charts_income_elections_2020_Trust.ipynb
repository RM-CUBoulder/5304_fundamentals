{
 "cells": [
  {
   "cell_type": "markdown",
   "metadata": {},
   "source": [
    "## Background information \n",
    "The data on which these charts are based are from a poll conducted by Ipsos among Americans before the elections of 2020. This poll was used for [an article](https://projects.fivethirtyeight.com/non-voters-poll-2020-election/) on the blog [FiveThirtyEight](https://fivethirtyeight.com/).\n",
    "\n",
    "This survey is for a study assigment and has no relation to FiveThirtyEight.\n",
    "\n",
    "###### Goal\n",
    "With this survey I set out to discover what information from these charts is most noticeable.  "
   ]
  },
  {
   "cell_type": "markdown",
   "metadata": {},
   "source": [
    "## Trust"
   ]
  },
  {
   "cell_type": "markdown",
   "metadata": {},
   "source": [
    "######  Chart information\n",
    "* Per income category every bar adds up to 100%.\n",
    "* Naturally, the bigger the color, the bigger the share of the accompanying answer. \n",
    "* By hovering over a single color you can see the answer it belongs to."
   ]
  },
  {
   "cell_type": "code",
   "execution_count": 5,
   "metadata": {},
   "outputs": [
    {
     "data": {
      "text/html": [
       "\n",
       "<div id=\"altair-viz-0278dd74831e4bcba5edaeda686389cc\"></div>\n",
       "<script type=\"text/javascript\">\n",
       "  var VEGA_DEBUG = (typeof VEGA_DEBUG == \"undefined\") ? {} : VEGA_DEBUG;\n",
       "  (function(spec, embedOpt){\n",
       "    let outputDiv = document.currentScript.previousElementSibling;\n",
       "    if (outputDiv.id !== \"altair-viz-0278dd74831e4bcba5edaeda686389cc\") {\n",
       "      outputDiv = document.getElementById(\"altair-viz-0278dd74831e4bcba5edaeda686389cc\");\n",
       "    }\n",
       "    const paths = {\n",
       "      \"vega\": \"https://cdn.jsdelivr.net/npm//vega@5?noext\",\n",
       "      \"vega-lib\": \"https://cdn.jsdelivr.net/npm//vega-lib?noext\",\n",
       "      \"vega-lite\": \"https://cdn.jsdelivr.net/npm//vega-lite@4.17.0?noext\",\n",
       "      \"vega-embed\": \"https://cdn.jsdelivr.net/npm//vega-embed@6?noext\",\n",
       "    };\n",
       "\n",
       "    function maybeLoadScript(lib, version) {\n",
       "      var key = `${lib.replace(\"-\", \"\")}_version`;\n",
       "      return (VEGA_DEBUG[key] == version) ?\n",
       "        Promise.resolve(paths[lib]) :\n",
       "        new Promise(function(resolve, reject) {\n",
       "          var s = document.createElement('script');\n",
       "          document.getElementsByTagName(\"head\")[0].appendChild(s);\n",
       "          s.async = true;\n",
       "          s.onload = () => {\n",
       "            VEGA_DEBUG[key] = version;\n",
       "            return resolve(paths[lib]);\n",
       "          };\n",
       "          s.onerror = () => reject(`Error loading script: ${paths[lib]}`);\n",
       "          s.src = paths[lib];\n",
       "        });\n",
       "    }\n",
       "\n",
       "    function showError(err) {\n",
       "      outputDiv.innerHTML = `<div class=\"error\" style=\"color:red;\">${err}</div>`;\n",
       "      throw err;\n",
       "    }\n",
       "\n",
       "    function displayChart(vegaEmbed) {\n",
       "      vegaEmbed(outputDiv, spec, embedOpt)\n",
       "        .catch(err => showError(`Javascript Error: ${err.message}<br>This usually means there's a typo in your chart specification. See the javascript console for the full traceback.`));\n",
       "    }\n",
       "\n",
       "    if(typeof define === \"function\" && define.amd) {\n",
       "      requirejs.config({paths});\n",
       "      require([\"vega-embed\"], displayChart, err => showError(`Error loading script: ${err.message}`));\n",
       "    } else {\n",
       "      maybeLoadScript(\"vega\", \"5\")\n",
       "        .then(() => maybeLoadScript(\"vega-lite\", \"4.17.0\"))\n",
       "        .then(() => maybeLoadScript(\"vega-embed\", \"6\"))\n",
       "        .catch(showError)\n",
       "        .then(() => displayChart(vegaEmbed));\n",
       "    }\n",
       "  })({\"config\": {\"view\": {\"continuousWidth\": 400, \"continuousHeight\": 300}}, \"hconcat\": [{\"data\": {\"name\": \"data-720a7809ece7c6b991752f5541b808fd\"}, \"mark\": {\"type\": \"bar\", \"size\": 50}, \"encoding\": {\"color\": {\"field\": \"val\", \"legend\": {\"labelFontSize\": 13, \"titleFontSize\": 14}, \"scale\": {\"scheme\": \"set2\"}, \"title\": \"Answer\", \"type\": \"nominal\"}, \"tooltip\": {\"field\": \"val\", \"type\": \"nominal\"}, \"x\": {\"axis\": {\"labelFontSize\": 16}, \"field\": \"count\", \"stack\": \"normalize\", \"title\": \"Proportion\", \"type\": \"quantitative\"}, \"y\": {\"axis\": {\"labelFontSize\": 16}, \"field\": \"income_cat\", \"title\": \"Income category\", \"type\": \"nominal\"}}, \"height\": 300, \"title\": \"The presidency\", \"width\": 500}, {\"data\": {\"name\": \"data-11a84acf9ec408e9ea575ac0c46c8738\"}, \"mark\": {\"type\": \"bar\", \"size\": 50}, \"encoding\": {\"color\": {\"field\": \"val\", \"legend\": {\"labelFontSize\": 13, \"titleFontSize\": 14}, \"scale\": {\"scheme\": \"set2\"}, \"title\": \"Answer\", \"type\": \"nominal\"}, \"tooltip\": {\"field\": \"val\", \"type\": \"nominal\"}, \"x\": {\"axis\": {\"labelFontSize\": 16}, \"field\": \"count\", \"stack\": \"normalize\", \"title\": \"Proportion\", \"type\": \"quantitative\"}, \"y\": {\"axis\": {\"labelFontSize\": 16}, \"field\": \"income_cat\", \"title\": \"Income category\", \"type\": \"nominal\"}}, \"height\": 300, \"title\": \"Congress\", \"width\": 500}], \"title\": \"How much do you trust: \", \"$schema\": \"https://vega.github.io/schema/vega-lite/v4.17.0.json\", \"datasets\": {\"data-720a7809ece7c6b991752f5541b808fd\": [{\"income_cat\": \"4. $125k or more\", \"val\": \"1. A lot\", \"count\": 204}, {\"income_cat\": \"4. $125k or more\", \"val\": \"2. Some\", \"count\": 361}, {\"income_cat\": \"4. $125k or more\", \"val\": \"3. Not much\", \"count\": 257}, {\"income_cat\": \"4. $125k or more\", \"val\": \"4. Not at all\", \"count\": 564}, {\"income_cat\": \"3. $75-125k\", \"val\": \"1. A lot\", \"count\": 259}, {\"income_cat\": \"3. $75-125k\", \"val\": \"2. Some\", \"count\": 453}, {\"income_cat\": \"3. $75-125k\", \"val\": \"3. Not much\", \"count\": 289}, {\"income_cat\": \"3. $75-125k\", \"val\": \"4. Not at all\", \"count\": 615}, {\"income_cat\": \"2. $40-75k\", \"val\": \"1. A lot\", \"count\": 250}, {\"income_cat\": \"2. $40-75k\", \"val\": \"2. Some\", \"count\": 370}, {\"income_cat\": \"2. $40-75k\", \"val\": \"3. Not much\", \"count\": 262}, {\"income_cat\": \"2. $40-75k\", \"val\": \"4. Not at all\", \"count\": 499}, {\"income_cat\": \"1. Less than $40k\", \"val\": \"1. A lot\", \"count\": 235}, {\"income_cat\": \"1. Less than $40k\", \"val\": \"2. Some\", \"count\": 379}, {\"income_cat\": \"1. Less than $40k\", \"val\": \"3. Not much\", \"count\": 285}, {\"income_cat\": \"1. Less than $40k\", \"val\": \"4. Not at all\", \"count\": 507}], \"data-11a84acf9ec408e9ea575ac0c46c8738\": [{\"income_cat\": \"4. $125k or more\", \"val\": \"1. A lot\", \"count\": 34}, {\"income_cat\": \"4. $125k or more\", \"val\": \"2. Some\", \"count\": 506}, {\"income_cat\": \"4. $125k or more\", \"val\": \"3. Not much\", \"count\": 597}, {\"income_cat\": \"4. $125k or more\", \"val\": \"4. Not at all\", \"count\": 252}, {\"income_cat\": \"3. $75-125k\", \"val\": \"1. A lot\", \"count\": 57}, {\"income_cat\": \"3. $75-125k\", \"val\": \"2. Some\", \"count\": 551}, {\"income_cat\": \"3. $75-125k\", \"val\": \"3. Not much\", \"count\": 676}, {\"income_cat\": \"3. $75-125k\", \"val\": \"4. Not at all\", \"count\": 333}, {\"income_cat\": \"2. $40-75k\", \"val\": \"1. A lot\", \"count\": 60}, {\"income_cat\": \"2. $40-75k\", \"val\": \"2. Some\", \"count\": 461}, {\"income_cat\": \"2. $40-75k\", \"val\": \"3. Not much\", \"count\": 561}, {\"income_cat\": \"2. $40-75k\", \"val\": \"4. Not at all\", \"count\": 298}, {\"income_cat\": \"1. Less than $40k\", \"val\": \"1. A lot\", \"count\": 77}, {\"income_cat\": \"1. Less than $40k\", \"val\": \"2. Some\", \"count\": 482}, {\"income_cat\": \"1. Less than $40k\", \"val\": \"3. Not much\", \"count\": 520}, {\"income_cat\": \"1. Less than $40k\", \"val\": \"4. Not at all\", \"count\": 322}]}}, {\"mode\": \"vega-lite\"});\n",
       "</script>"
      ],
      "text/plain": [
       "alt.HConcatChart(...)"
      ]
     },
     "execution_count": 5,
     "metadata": {},
     "output_type": "execute_result"
    }
   ],
   "source": [
    "A_5304.trust"
   ]
  },
  {
   "cell_type": "code",
   "execution_count": 6,
   "metadata": {
    "scrolled": true
   },
   "outputs": [
    {
     "data": {
      "text/html": [
       "\n",
       "<div id=\"altair-viz-5a105f37977c4602ab45cdedf02b01cf\"></div>\n",
       "<script type=\"text/javascript\">\n",
       "  var VEGA_DEBUG = (typeof VEGA_DEBUG == \"undefined\") ? {} : VEGA_DEBUG;\n",
       "  (function(spec, embedOpt){\n",
       "    let outputDiv = document.currentScript.previousElementSibling;\n",
       "    if (outputDiv.id !== \"altair-viz-5a105f37977c4602ab45cdedf02b01cf\") {\n",
       "      outputDiv = document.getElementById(\"altair-viz-5a105f37977c4602ab45cdedf02b01cf\");\n",
       "    }\n",
       "    const paths = {\n",
       "      \"vega\": \"https://cdn.jsdelivr.net/npm//vega@5?noext\",\n",
       "      \"vega-lib\": \"https://cdn.jsdelivr.net/npm//vega-lib?noext\",\n",
       "      \"vega-lite\": \"https://cdn.jsdelivr.net/npm//vega-lite@4.17.0?noext\",\n",
       "      \"vega-embed\": \"https://cdn.jsdelivr.net/npm//vega-embed@6?noext\",\n",
       "    };\n",
       "\n",
       "    function maybeLoadScript(lib, version) {\n",
       "      var key = `${lib.replace(\"-\", \"\")}_version`;\n",
       "      return (VEGA_DEBUG[key] == version) ?\n",
       "        Promise.resolve(paths[lib]) :\n",
       "        new Promise(function(resolve, reject) {\n",
       "          var s = document.createElement('script');\n",
       "          document.getElementsByTagName(\"head\")[0].appendChild(s);\n",
       "          s.async = true;\n",
       "          s.onload = () => {\n",
       "            VEGA_DEBUG[key] = version;\n",
       "            return resolve(paths[lib]);\n",
       "          };\n",
       "          s.onerror = () => reject(`Error loading script: ${paths[lib]}`);\n",
       "          s.src = paths[lib];\n",
       "        });\n",
       "    }\n",
       "\n",
       "    function showError(err) {\n",
       "      outputDiv.innerHTML = `<div class=\"error\" style=\"color:red;\">${err}</div>`;\n",
       "      throw err;\n",
       "    }\n",
       "\n",
       "    function displayChart(vegaEmbed) {\n",
       "      vegaEmbed(outputDiv, spec, embedOpt)\n",
       "        .catch(err => showError(`Javascript Error: ${err.message}<br>This usually means there's a typo in your chart specification. See the javascript console for the full traceback.`));\n",
       "    }\n",
       "\n",
       "    if(typeof define === \"function\" && define.amd) {\n",
       "      requirejs.config({paths});\n",
       "      require([\"vega-embed\"], displayChart, err => showError(`Error loading script: ${err.message}`));\n",
       "    } else {\n",
       "      maybeLoadScript(\"vega\", \"5\")\n",
       "        .then(() => maybeLoadScript(\"vega-lite\", \"4.17.0\"))\n",
       "        .then(() => maybeLoadScript(\"vega-embed\", \"6\"))\n",
       "        .catch(showError)\n",
       "        .then(() => displayChart(vegaEmbed));\n",
       "    }\n",
       "  })({\"config\": {\"view\": {\"continuousWidth\": 400, \"continuousHeight\": 300}}, \"hconcat\": [{\"data\": {\"name\": \"data-87ac9b7d1918f726c7712bda5cf0a459\"}, \"mark\": {\"type\": \"bar\", \"size\": 50}, \"encoding\": {\"color\": {\"field\": \"val\", \"legend\": {\"labelFontSize\": 13, \"titleFontSize\": 14}, \"scale\": {\"scheme\": \"set2\"}, \"title\": \"Answer\", \"type\": \"nominal\"}, \"tooltip\": {\"field\": \"val\", \"type\": \"nominal\"}, \"x\": {\"axis\": {\"labelFontSize\": 16}, \"field\": \"count\", \"stack\": \"normalize\", \"title\": \"Proportion\", \"type\": \"quantitative\"}, \"y\": {\"axis\": {\"labelFontSize\": 16}, \"field\": \"income_cat\", \"title\": \"Income category\", \"type\": \"nominal\"}}, \"height\": 300, \"title\": \"Election officials\", \"width\": 500}, {\"data\": {\"name\": \"data-51cbe7227b1a7bd0d68a27288e981bd5\"}, \"mark\": {\"type\": \"bar\", \"size\": 50}, \"encoding\": {\"color\": {\"field\": \"val\", \"legend\": {\"labelFontSize\": 13, \"titleFontSize\": 14}, \"scale\": {\"scheme\": \"set2\"}, \"title\": \"Answer\", \"type\": \"nominal\"}, \"tooltip\": {\"field\": \"val\", \"type\": \"nominal\"}, \"x\": {\"axis\": {\"labelFontSize\": 16}, \"field\": \"count\", \"stack\": \"normalize\", \"title\": \"Proportion\", \"type\": \"quantitative\"}, \"y\": {\"axis\": {\"labelFontSize\": 16}, \"field\": \"income_cat\", \"title\": \"Income category\", \"type\": \"nominal\"}}, \"height\": 300, \"title\": \"The news media\", \"width\": 500}], \"title\": \"How much do you trust: \", \"$schema\": \"https://vega.github.io/schema/vega-lite/v4.17.0.json\", \"datasets\": {\"data-87ac9b7d1918f726c7712bda5cf0a459\": [{\"income_cat\": \"4. $125k or more\", \"val\": \"1. A lot\", \"count\": 178}, {\"income_cat\": \"4. $125k or more\", \"val\": \"2. Some\", \"count\": 654}, {\"income_cat\": \"4. $125k or more\", \"val\": \"3. Not much\", \"count\": 414}, {\"income_cat\": \"4. $125k or more\", \"val\": \"4. Not at all\", \"count\": 141}, {\"income_cat\": \"3. $75-125k\", \"val\": \"1. A lot\", \"count\": 146}, {\"income_cat\": \"3. $75-125k\", \"val\": \"2. Some\", \"count\": 778}, {\"income_cat\": \"3. $75-125k\", \"val\": \"3. Not much\", \"count\": 507}, {\"income_cat\": \"3. $75-125k\", \"val\": \"4. Not at all\", \"count\": 186}, {\"income_cat\": \"2. $40-75k\", \"val\": \"1. A lot\", \"count\": 124}, {\"income_cat\": \"2. $40-75k\", \"val\": \"2. Some\", \"count\": 616}, {\"income_cat\": \"2. $40-75k\", \"val\": \"3. Not much\", \"count\": 461}, {\"income_cat\": \"2. $40-75k\", \"val\": \"4. Not at all\", \"count\": 183}, {\"income_cat\": \"1. Less than $40k\", \"val\": \"1. A lot\", \"count\": 93}, {\"income_cat\": \"1. Less than $40k\", \"val\": \"2. Some\", \"count\": 586}, {\"income_cat\": \"1. Less than $40k\", \"val\": \"3. Not much\", \"count\": 482}, {\"income_cat\": \"1. Less than $40k\", \"val\": \"4. Not at all\", \"count\": 238}], \"data-51cbe7227b1a7bd0d68a27288e981bd5\": [{\"income_cat\": \"4. $125k or more\", \"val\": \"1. A lot\", \"count\": 111}, {\"income_cat\": \"4. $125k or more\", \"val\": \"2. Some\", \"count\": 491}, {\"income_cat\": \"4. $125k or more\", \"val\": \"3. Not much\", \"count\": 374}, {\"income_cat\": \"4. $125k or more\", \"val\": \"4. Not at all\", \"count\": 409}, {\"income_cat\": \"3. $75-125k\", \"val\": \"1. A lot\", \"count\": 97}, {\"income_cat\": \"3. $75-125k\", \"val\": \"2. Some\", \"count\": 566}, {\"income_cat\": \"3. $75-125k\", \"val\": \"3. Not much\", \"count\": 465}, {\"income_cat\": \"3. $75-125k\", \"val\": \"4. Not at all\", \"count\": 490}, {\"income_cat\": \"2. $40-75k\", \"val\": \"1. A lot\", \"count\": 100}, {\"income_cat\": \"2. $40-75k\", \"val\": \"2. Some\", \"count\": 457}, {\"income_cat\": \"2. $40-75k\", \"val\": \"3. Not much\", \"count\": 377}, {\"income_cat\": \"2. $40-75k\", \"val\": \"4. Not at all\", \"count\": 451}, {\"income_cat\": \"1. Less than $40k\", \"val\": \"1. A lot\", \"count\": 109}, {\"income_cat\": \"1. Less than $40k\", \"val\": \"2. Some\", \"count\": 498}, {\"income_cat\": \"1. Less than $40k\", \"val\": \"3. Not much\", \"count\": 382}, {\"income_cat\": \"1. Less than $40k\", \"val\": \"4. Not at all\", \"count\": 417}]}}, {\"mode\": \"vega-lite\"});\n",
       "</script>"
      ],
      "text/plain": [
       "alt.HConcatChart(...)"
      ]
     },
     "execution_count": 6,
     "metadata": {},
     "output_type": "execute_result"
    }
   ],
   "source": [
    "A_5304.trust_I"
   ]
  }
 ],
 "metadata": {
  "kernelspec": {
   "display_name": "Python 3",
   "language": "python",
   "name": "python3"
  },
  "language_info": {
   "codemirror_mode": {
    "name": "ipython",
    "version": 3
   },
   "file_extension": ".py",
   "mimetype": "text/x-python",
   "name": "python",
   "nbconvert_exporter": "python",
   "pygments_lexer": "ipython3",
   "version": "3.7.3"
  }
 },
 "nbformat": 4,
 "nbformat_minor": 2
}
